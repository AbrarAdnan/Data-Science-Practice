{
  "nbformat": 4,
  "nbformat_minor": 0,
  "metadata": {
    "colab": {
      "provenance": [],
      "include_colab_link": true
    },
    "kernelspec": {
      "name": "python3",
      "display_name": "Python 3"
    },
    "language_info": {
      "name": "python"
    }
  },
  "cells": [
    {
      "cell_type": "markdown",
      "metadata": {
        "id": "view-in-github",
        "colab_type": "text"
      },
      "source": [
        "<a href=\"https://colab.research.google.com/github/AbrarAdnan/Data-Science-practice/blob/main/pytorch_introduction.ipynb\" target=\"_parent\"><img src=\"https://colab.research.google.com/assets/colab-badge.svg\" alt=\"Open In Colab\"/></a>"
      ]
    },
    {
      "cell_type": "markdown",
      "source": [
        "# What is PyTorch\n",
        "- PyTorch is an open-source machine learning library for Python, primarily developed by Meta (previously Facebook) AI Research lab.\n",
        "\n",
        "- It is known for its ease of use, dynamic computational graphs, and support for a wide range of hardware platforms. \n",
        "\n",
        "- PyTorch provides a high-level interface for working with neural networks and other machine learning models, and it allows for easy integration with other popular Python libraries and frameworks. \n",
        "\n",
        "- It also has a large and active community of developers and users, making it a popular choice for building and deploying machine learning models."
      ],
      "metadata": {
        "id": "Pr_XGeaOLaFS"
      }
    },
    {
      "cell_type": "code",
      "execution_count": 1,
      "metadata": {
        "id": "e9qxmUi5KV5J"
      },
      "outputs": [],
      "source": [
        "import torch"
      ]
    },
    {
      "cell_type": "markdown",
      "source": [
        "# What is Tensor\n",
        "- In PyTorch, a tensor is a multi-dimensional array similar to a NumPy array, but with the added capability to run on GPUs for faster computation. \n",
        "- Tensors in PyTorch are similar to ndarrays in NumPy, with the addition of support for GPU acceleration and automatic differentiation that are crucial for building and training neural networks. \n",
        "- They can be used to store a variety of data types, including integers, floating point numbers, and Boolean values. \n",
        "- Tensors are the fundamental building blocks of neural networks and other machine learning models in PyTorch, and they are used to represent the inputs, outputs, and parameters of the model. \n",
        "- Pytorch provides a wide range of tensor operations, including mathematical operations, indexing, slicing, reshaping, and many more. "
      ],
      "metadata": {
        "id": "oWKNtjxoSaq0"
      }
    },
    {
      "cell_type": "code",
      "source": [
        "from torch import tensor"
      ],
      "metadata": {
        "id": "SywrxZuYSZ6e"
      },
      "execution_count": 2,
      "outputs": []
    },
    {
      "cell_type": "code",
      "source": [
        "a = tensor([\n",
        "        [1, 2, 3],\n",
        "        [4, 5, 6],\n",
        "        [7, 8, 9]\n",
        "      ]\n",
        "    )\n",
        "a"
      ],
      "metadata": {
        "colab": {
          "base_uri": "https://localhost:8080/"
        },
        "id": "wvyxlfRuKlh2",
        "outputId": "0b4b4650-7fcc-4256-8cdb-3a42c5f58091"
      },
      "execution_count": 3,
      "outputs": [
        {
          "output_type": "execute_result",
          "data": {
            "text/plain": [
              "tensor([[1, 2, 3],\n",
              "        [4, 5, 6],\n",
              "        [7, 8, 9]])"
            ]
          },
          "metadata": {},
          "execution_count": 3
        }
      ]
    },
    {
      "cell_type": "code",
      "source": [
        "a.size(), a.shape"
      ],
      "metadata": {
        "colab": {
          "base_uri": "https://localhost:8080/"
        },
        "id": "O4mQhKCTRUNW",
        "outputId": "5a33e206-d8d5-4376-99ff-4d1b8d44f618"
      },
      "execution_count": 4,
      "outputs": [
        {
          "output_type": "execute_result",
          "data": {
            "text/plain": [
              "(torch.Size([3, 3]), torch.Size([3, 3]))"
            ]
          },
          "metadata": {},
          "execution_count": 4
        }
      ]
    },
    {
      "cell_type": "code",
      "source": [
        "a[0,0], a[0,1], a[1,0], a[1,2]"
      ],
      "metadata": {
        "colab": {
          "base_uri": "https://localhost:8080/"
        },
        "id": "rG1HXLwORcr1",
        "outputId": "af5d6071-1f73-4796-a986-45471e867917"
      },
      "execution_count": 5,
      "outputs": [
        {
          "output_type": "execute_result",
          "data": {
            "text/plain": [
              "(tensor(1), tensor(2), tensor(4), tensor(6))"
            ]
          },
          "metadata": {},
          "execution_count": 5
        }
      ]
    },
    {
      "cell_type": "markdown",
      "source": [
        "## Special Arrays"
      ],
      "metadata": {
        "id": "IGmUAPR-UySs"
      }
    },
    {
      "cell_type": "code",
      "source": [
        "a = torch.zeros((2,6))   # Create a tensor array of all zeros\n",
        "a            "
      ],
      "metadata": {
        "colab": {
          "base_uri": "https://localhost:8080/"
        },
        "id": "gn-c-09pRzjl",
        "outputId": "10139425-4ede-4060-8448-e1c52f7891f7"
      },
      "execution_count": 6,
      "outputs": [
        {
          "output_type": "execute_result",
          "data": {
            "text/plain": [
              "tensor([[0., 0., 0., 0., 0., 0.],\n",
              "        [0., 0., 0., 0., 0., 0.]])"
            ]
          },
          "metadata": {},
          "execution_count": 6
        }
      ]
    },
    {
      "cell_type": "code",
      "source": [
        "b = torch.tensor([ [1,2,3], [4,5,6]  ])\n",
        "torch.zeros_like(b,dtype=int)"
      ],
      "metadata": {
        "colab": {
          "base_uri": "https://localhost:8080/"
        },
        "id": "VBzhp1CdR33N",
        "outputId": "13db11e8-4199-4f0c-a9a9-f1b1c5963897"
      },
      "execution_count": 7,
      "outputs": [
        {
          "output_type": "execute_result",
          "data": {
            "text/plain": [
              "tensor([[0, 0, 0],\n",
              "        [0, 0, 0]])"
            ]
          },
          "metadata": {},
          "execution_count": 7
        }
      ]
    },
    {
      "cell_type": "code",
      "source": [
        "b = torch.ones((3,5))    # Create a tensor array of all ones\n",
        "b   "
      ],
      "metadata": {
        "colab": {
          "base_uri": "https://localhost:8080/"
        },
        "id": "CY0iVUB4R-zV",
        "outputId": "29626265-8603-42ab-9a16-06462a82d172"
      },
      "execution_count": 9,
      "outputs": [
        {
          "output_type": "execute_result",
          "data": {
            "text/plain": [
              "tensor([[1., 1., 1., 1., 1.],\n",
              "        [1., 1., 1., 1., 1.],\n",
              "        [1., 1., 1., 1., 1.]])"
            ]
          },
          "metadata": {},
          "execution_count": 9
        }
      ]
    },
    {
      "cell_type": "code",
      "source": [
        "c = torch.full((2,4), 77)  # Create a constant tensor array\n",
        "c   "
      ],
      "metadata": {
        "colab": {
          "base_uri": "https://localhost:8080/"
        },
        "id": "NRN7wcn-SGBc",
        "outputId": "e4631314-3e79-4812-be54-d837677b43b9"
      },
      "execution_count": 10,
      "outputs": [
        {
          "output_type": "execute_result",
          "data": {
            "text/plain": [
              "tensor([[77, 77, 77, 77],\n",
              "        [77, 77, 77, 77]])"
            ]
          },
          "metadata": {},
          "execution_count": 10
        }
      ]
    },
    {
      "cell_type": "code",
      "source": [
        "d = torch.eye(5)         # Create a nxn identity matrix with tensors\n",
        "d  "
      ],
      "metadata": {
        "colab": {
          "base_uri": "https://localhost:8080/"
        },
        "id": "TmsZzDp1SKA2",
        "outputId": "c5b1dbbd-9950-4cf4-9776-7e04ad29d594"
      },
      "execution_count": 12,
      "outputs": [
        {
          "output_type": "execute_result",
          "data": {
            "text/plain": [
              "tensor([[1., 0., 0., 0., 0.],\n",
              "        [0., 1., 0., 0., 0.],\n",
              "        [0., 0., 1., 0., 0.],\n",
              "        [0., 0., 0., 1., 0.],\n",
              "        [0., 0., 0., 0., 1.]])"
            ]
          },
          "metadata": {},
          "execution_count": 12
        }
      ]
    },
    {
      "cell_type": "code",
      "source": [
        "e = torch.randn((4,3))  # Create a tensor array filled with random values\n",
        "e"
      ],
      "metadata": {
        "colab": {
          "base_uri": "https://localhost:8080/"
        },
        "id": "v_-RqO5_XwCo",
        "outputId": "75657613-4a0a-4c85-b8ab-5725667eba67"
      },
      "execution_count": 13,
      "outputs": [
        {
          "output_type": "execute_result",
          "data": {
            "text/plain": [
              "tensor([[-0.5571, -0.3944,  0.3589],\n",
              "        [ 0.4620, -0.9956, -0.6807],\n",
              "        [-0.3036,  0.9263, -0.2398],\n",
              "        [-0.5743, -0.8478,  0.7277]])"
            ]
          },
          "metadata": {},
          "execution_count": 13
        }
      ]
    },
    {
      "cell_type": "markdown",
      "source": [
        "## Indexing"
      ],
      "metadata": {
        "id": "rTjZUWRhU1lU"
      }
    },
    {
      "cell_type": "code",
      "source": [
        "a = tensor([[1,2,3,4], \n",
        "              [5,6,7,8], \n",
        "              [9,10,11,12],\n",
        "              [1,2,3,4], \n",
        "              [5,6,7,8], \n",
        "              [9,10,11,12]])\n",
        "a"
      ],
      "metadata": {
        "colab": {
          "base_uri": "https://localhost:8080/"
        },
        "id": "eLcIzuuWTAu2",
        "outputId": "c61b6626-5e41-4a07-b433-f88275c9e45c"
      },
      "execution_count": 14,
      "outputs": [
        {
          "output_type": "execute_result",
          "data": {
            "text/plain": [
              "tensor([[ 1,  2,  3,  4],\n",
              "        [ 5,  6,  7,  8],\n",
              "        [ 9, 10, 11, 12],\n",
              "        [ 1,  2,  3,  4],\n",
              "        [ 5,  6,  7,  8],\n",
              "        [ 9, 10, 11, 12]])"
            ]
          },
          "metadata": {},
          "execution_count": 14
        }
      ]
    },
    {
      "cell_type": "code",
      "source": [
        "a[:4,:3]"
      ],
      "metadata": {
        "colab": {
          "base_uri": "https://localhost:8080/"
        },
        "id": "ZzYMbUxCTMkl",
        "outputId": "39b22dd8-eb2d-44e4-bfa7-1c1cfffadef2"
      },
      "execution_count": 15,
      "outputs": [
        {
          "output_type": "execute_result",
          "data": {
            "text/plain": [
              "tensor([[ 1,  2,  3],\n",
              "        [ 5,  6,  7],\n",
              "        [ 9, 10, 11],\n",
              "        [ 1,  2,  3]])"
            ]
          },
          "metadata": {},
          "execution_count": 15
        }
      ]
    },
    {
      "cell_type": "code",
      "source": [
        "b = a[:4,1:3]\n",
        "b"
      ],
      "metadata": {
        "colab": {
          "base_uri": "https://localhost:8080/"
        },
        "id": "Ua1L4C4ZTOM1",
        "outputId": "b9e1677f-da20-4811-bc08-5e359e9996e7"
      },
      "execution_count": 16,
      "outputs": [
        {
          "output_type": "execute_result",
          "data": {
            "text/plain": [
              "tensor([[ 2,  3],\n",
              "        [ 6,  7],\n",
              "        [10, 11],\n",
              "        [ 2,  3]])"
            ]
          },
          "metadata": {},
          "execution_count": 16
        }
      ]
    },
    {
      "cell_type": "code",
      "source": [
        "print(a[0, 1])   # Prints \"2\"\n",
        "b[0, 0] = 77     # b[0, 0] is the same piece of data as a[0, 1]\n",
        "print(a[0, 1])   # Prints \"77\""
      ],
      "metadata": {
        "colab": {
          "base_uri": "https://localhost:8080/"
        },
        "id": "67m048HxTQf1",
        "outputId": "cfd374c2-d266-424b-f7ff-5c64f593cc1b"
      },
      "execution_count": 17,
      "outputs": [
        {
          "output_type": "stream",
          "name": "stdout",
          "text": [
            "tensor(2)\n",
            "tensor(77)\n"
          ]
        }
      ]
    },
    {
      "cell_type": "code",
      "source": [
        "b = a\n",
        "c = a.clone()\n",
        "c[0,0] = 100\n",
        "b[0,1] = 8\n",
        "a"
      ],
      "metadata": {
        "colab": {
          "base_uri": "https://localhost:8080/"
        },
        "id": "-EFMYx4Zg28m",
        "outputId": "e52ae345-3ddc-41a0-90a9-a842cec6bc90"
      },
      "execution_count": 18,
      "outputs": [
        {
          "output_type": "execute_result",
          "data": {
            "text/plain": [
              "tensor([[ 1,  8,  3,  4],\n",
              "        [ 5,  6,  7,  8],\n",
              "        [ 9, 10, 11, 12],\n",
              "        [ 1,  2,  3,  4],\n",
              "        [ 5,  6,  7,  8],\n",
              "        [ 9, 10, 11, 12]])"
            ]
          },
          "metadata": {},
          "execution_count": 18
        }
      ]
    },
    {
      "cell_type": "code",
      "source": [
        "a[1, :], a[1, :].shape"
      ],
      "metadata": {
        "colab": {
          "base_uri": "https://localhost:8080/"
        },
        "id": "IeG17P8eTSlW",
        "outputId": "11302a7b-356a-40c7-9a66-374b43d0e4d3"
      },
      "execution_count": 19,
      "outputs": [
        {
          "output_type": "execute_result",
          "data": {
            "text/plain": [
              "(tensor([5, 6, 7, 8]), torch.Size([4]))"
            ]
          },
          "metadata": {},
          "execution_count": 19
        }
      ]
    },
    {
      "cell_type": "code",
      "source": [
        "a[1:2, :], a[1:2, :].shape"
      ],
      "metadata": {
        "colab": {
          "base_uri": "https://localhost:8080/"
        },
        "id": "L29AzpNQTXV5",
        "outputId": "36d4f5ec-e353-48b8-9182-b530ba18bbff"
      },
      "execution_count": null,
      "outputs": [
        {
          "output_type": "execute_result",
          "data": {
            "text/plain": [
              "(tensor([[5, 6, 7, 8]]), torch.Size([1, 4]))"
            ]
          },
          "metadata": {},
          "execution_count": 27
        }
      ]
    },
    {
      "cell_type": "code",
      "source": [
        "a[:, 1], a[:, 1].shape"
      ],
      "metadata": {
        "colab": {
          "base_uri": "https://localhost:8080/"
        },
        "id": "zVoa-U-FTbvB",
        "outputId": "4b420950-903b-4f0c-b1b3-02815ec72b81"
      },
      "execution_count": 20,
      "outputs": [
        {
          "output_type": "execute_result",
          "data": {
            "text/plain": [
              "(tensor([ 8,  6, 10,  2,  6, 10]), torch.Size([6]))"
            ]
          },
          "metadata": {},
          "execution_count": 20
        }
      ]
    },
    {
      "cell_type": "code",
      "source": [
        "a[:, 1:2], a[:, 1:2].shape"
      ],
      "metadata": {
        "colab": {
          "base_uri": "https://localhost:8080/"
        },
        "id": "3YdUkHZ0TgOx",
        "outputId": "6b0eb1ee-3025-43b4-ae16-fb9f9fad7b3c"
      },
      "execution_count": 21,
      "outputs": [
        {
          "output_type": "execute_result",
          "data": {
            "text/plain": [
              "(tensor([[ 8],\n",
              "         [ 6],\n",
              "         [10],\n",
              "         [ 2],\n",
              "         [ 6],\n",
              "         [10]]), torch.Size([6, 1]))"
            ]
          },
          "metadata": {},
          "execution_count": 21
        }
      ]
    },
    {
      "cell_type": "code",
      "source": [
        "torch.arange(2,10,1) # (start, end+1, step)"
      ],
      "metadata": {
        "colab": {
          "base_uri": "https://localhost:8080/"
        },
        "id": "l5X4mcDkTiWB",
        "outputId": "a77b2e05-3736-4f88-cf29-52a5fdb232f2"
      },
      "execution_count": 23,
      "outputs": [
        {
          "output_type": "execute_result",
          "data": {
            "text/plain": [
              "tensor([2, 3, 4, 5, 6, 7, 8, 9])"
            ]
          },
          "metadata": {},
          "execution_count": 23
        }
      ]
    },
    {
      "cell_type": "code",
      "source": [
        "torch.linspace(2,10,10) # (start, end, number_of_samples)"
      ],
      "metadata": {
        "colab": {
          "base_uri": "https://localhost:8080/"
        },
        "id": "Eb1RabHBTv4V",
        "outputId": "6da092d5-20da-4ef0-fe17-f7642a744512"
      },
      "execution_count": 26,
      "outputs": [
        {
          "output_type": "execute_result",
          "data": {
            "text/plain": [
              "tensor([ 2.0000,  2.8889,  3.7778,  4.6667,  5.5556,  6.4444,  7.3333,  8.2222,\n",
              "         9.1111, 10.0000])"
            ]
          },
          "metadata": {},
          "execution_count": 26
        }
      ]
    },
    {
      "cell_type": "code",
      "source": [
        "torch.linspace(2,10,7) # (start, end, number_of_samples)"
      ],
      "metadata": {
        "colab": {
          "base_uri": "https://localhost:8080/"
        },
        "id": "q0Mn_WGBUT3O",
        "outputId": "a0bcd254-34e6-421a-a381-bde7ba2a2dc6"
      },
      "execution_count": 27,
      "outputs": [
        {
          "output_type": "execute_result",
          "data": {
            "text/plain": [
              "tensor([ 2.0000,  3.3333,  4.6667,  6.0000,  7.3333,  8.6667, 10.0000])"
            ]
          },
          "metadata": {},
          "execution_count": 27
        }
      ]
    },
    {
      "cell_type": "markdown",
      "source": [
        "## Boolean array indexing"
      ],
      "metadata": {
        "id": "67sMhBWAU45E"
      }
    },
    {
      "cell_type": "code",
      "source": [
        "a"
      ],
      "metadata": {
        "colab": {
          "base_uri": "https://localhost:8080/"
        },
        "id": "Z4ejC8WAUckg",
        "outputId": "31caa219-b64f-43e4-ad77-4bd48a4a6a00"
      },
      "execution_count": 28,
      "outputs": [
        {
          "output_type": "execute_result",
          "data": {
            "text/plain": [
              "tensor([[ 1,  8,  3,  4],\n",
              "        [ 5,  6,  7,  8],\n",
              "        [ 9, 10, 11, 12],\n",
              "        [ 1,  2,  3,  4],\n",
              "        [ 5,  6,  7,  8],\n",
              "        [ 9, 10, 11, 12]])"
            ]
          },
          "metadata": {},
          "execution_count": 28
        }
      ]
    },
    {
      "cell_type": "code",
      "source": [
        "bool_idx = (a>10)\n",
        "bool_idx"
      ],
      "metadata": {
        "colab": {
          "base_uri": "https://localhost:8080/"
        },
        "id": "mO6CDsHJUfJd",
        "outputId": "1db217b6-835b-4bec-efa2-b96462e8ee65"
      },
      "execution_count": 29,
      "outputs": [
        {
          "output_type": "execute_result",
          "data": {
            "text/plain": [
              "tensor([[False, False, False, False],\n",
              "        [False, False, False, False],\n",
              "        [False, False,  True,  True],\n",
              "        [False, False, False, False],\n",
              "        [False, False, False, False],\n",
              "        [False, False,  True,  True]])"
            ]
          },
          "metadata": {},
          "execution_count": 29
        }
      ]
    },
    {
      "cell_type": "code",
      "source": [
        "a[bool_idx]"
      ],
      "metadata": {
        "colab": {
          "base_uri": "https://localhost:8080/"
        },
        "id": "9IFEob_4UiTb",
        "outputId": "d3dbf8a3-d361-4eac-e38c-2f16a297bd4a"
      },
      "execution_count": 30,
      "outputs": [
        {
          "output_type": "execute_result",
          "data": {
            "text/plain": [
              "tensor([11, 12, 11, 12])"
            ]
          },
          "metadata": {},
          "execution_count": 30
        }
      ]
    },
    {
      "cell_type": "code",
      "source": [
        "a [ a>10 ]"
      ],
      "metadata": {
        "colab": {
          "base_uri": "https://localhost:8080/"
        },
        "id": "l42ioYv7Uj4N",
        "outputId": "0692323e-fd2f-43f7-ee1c-e663371ee77a"
      },
      "execution_count": 31,
      "outputs": [
        {
          "output_type": "execute_result",
          "data": {
            "text/plain": [
              "tensor([11, 12, 11, 12])"
            ]
          },
          "metadata": {},
          "execution_count": 31
        }
      ]
    },
    {
      "cell_type": "markdown",
      "source": [
        "# Data Types"
      ],
      "metadata": {
        "id": "z0Px5UPJU8U-"
      }
    },
    {
      "cell_type": "code",
      "source": [
        "x = tensor([1, 2])   \n",
        "print(x.dtype) "
      ],
      "metadata": {
        "colab": {
          "base_uri": "https://localhost:8080/"
        },
        "id": "s3C8uwpgUnBl",
        "outputId": "9501452c-6a2d-440e-9c7b-354b798693e9"
      },
      "execution_count": 32,
      "outputs": [
        {
          "output_type": "stream",
          "name": "stdout",
          "text": [
            "torch.int64\n"
          ]
        }
      ]
    },
    {
      "cell_type": "code",
      "source": [
        "x = tensor([1.0, 2.0])\n",
        "print(x.dtype)"
      ],
      "metadata": {
        "colab": {
          "base_uri": "https://localhost:8080/"
        },
        "id": "RSE2ioA3U9Jm",
        "outputId": "97d57ed1-a4e0-4f78-8608-80e2ba05c489"
      },
      "execution_count": 33,
      "outputs": [
        {
          "output_type": "stream",
          "name": "stdout",
          "text": [
            "torch.float32\n"
          ]
        }
      ]
    },
    {
      "cell_type": "code",
      "source": [
        "x = tensor([1, 2], dtype=torch.float64) # Forcing a particular datatype\n",
        "x, x.dtype "
      ],
      "metadata": {
        "colab": {
          "base_uri": "https://localhost:8080/"
        },
        "id": "HenXVsTJVEtV",
        "outputId": "5c9477cc-7ee1-4709-f54b-1821be230a73"
      },
      "execution_count": 34,
      "outputs": [
        {
          "output_type": "execute_result",
          "data": {
            "text/plain": [
              "(tensor([1., 2.], dtype=torch.float64), torch.float64)"
            ]
          },
          "metadata": {},
          "execution_count": 34
        }
      ]
    },
    {
      "cell_type": "code",
      "source": [
        "x = tensor([1, 2])   \n",
        "x.type()"
      ],
      "metadata": {
        "colab": {
          "base_uri": "https://localhost:8080/",
          "height": 35
        },
        "id": "iradt0C8XE9t",
        "outputId": "43fd4b7c-0ab6-4110-ee18-e4e2fb56e1c2"
      },
      "execution_count": 35,
      "outputs": [
        {
          "output_type": "execute_result",
          "data": {
            "text/plain": [
              "'torch.LongTensor'"
            ],
            "application/vnd.google.colaboratory.intrinsic+json": {
              "type": "string"
            }
          },
          "metadata": {},
          "execution_count": 35
        }
      ]
    },
    {
      "cell_type": "code",
      "source": [
        "x = tensor([1.0, 2.0])\n",
        "x.type()"
      ],
      "metadata": {
        "colab": {
          "base_uri": "https://localhost:8080/",
          "height": 35
        },
        "id": "m2F2dhQ9XLeG",
        "outputId": "287aea57-a517-4ca9-c0f4-b1c776b50719"
      },
      "execution_count": 36,
      "outputs": [
        {
          "output_type": "execute_result",
          "data": {
            "text/plain": [
              "'torch.FloatTensor'"
            ],
            "application/vnd.google.colaboratory.intrinsic+json": {
              "type": "string"
            }
          },
          "metadata": {},
          "execution_count": 36
        }
      ]
    },
    {
      "cell_type": "code",
      "source": [
        "x = tensor([1, 2], dtype=torch.float64)\n",
        "x.type()"
      ],
      "metadata": {
        "colab": {
          "base_uri": "https://localhost:8080/",
          "height": 35
        },
        "id": "nWF5jZTlXPVJ",
        "outputId": "2a9e467f-947b-4f24-8723-3e703b860c5f"
      },
      "execution_count": 37,
      "outputs": [
        {
          "output_type": "execute_result",
          "data": {
            "text/plain": [
              "'torch.DoubleTensor'"
            ],
            "application/vnd.google.colaboratory.intrinsic+json": {
              "type": "string"
            }
          },
          "metadata": {},
          "execution_count": 37
        }
      ]
    },
    {
      "cell_type": "markdown",
      "source": [
        "# Operations"
      ],
      "metadata": {
        "id": "rC0RE-zNVY6t"
      }
    },
    {
      "cell_type": "code",
      "source": [
        "x = tensor([[1,2],[3,4]], dtype=torch.float64)\n",
        "y = tensor([[5,6],[7,8]], dtype=torch.float64)\n",
        "\n",
        "print(x)\n",
        "print(y)"
      ],
      "metadata": {
        "colab": {
          "base_uri": "https://localhost:8080/"
        },
        "id": "QJMos84gVYbd",
        "outputId": "43e7cb4b-fe08-47c8-dbbf-5e3d9f687ef3"
      },
      "execution_count": 38,
      "outputs": [
        {
          "output_type": "stream",
          "name": "stdout",
          "text": [
            "tensor([[1., 2.],\n",
            "        [3., 4.]], dtype=torch.float64)\n",
            "tensor([[5., 6.],\n",
            "        [7., 8.]], dtype=torch.float64)\n"
          ]
        }
      ]
    },
    {
      "cell_type": "code",
      "source": [
        "print(x + y)\n",
        "print(torch.add(x, y))"
      ],
      "metadata": {
        "colab": {
          "base_uri": "https://localhost:8080/"
        },
        "id": "4nslRvZhVWTd",
        "outputId": "65af1007-0e34-4d81-f06d-d034390f2c86"
      },
      "execution_count": 39,
      "outputs": [
        {
          "output_type": "stream",
          "name": "stdout",
          "text": [
            "tensor([[ 6.,  8.],\n",
            "        [10., 12.]], dtype=torch.float64)\n",
            "tensor([[ 6.,  8.],\n",
            "        [10., 12.]], dtype=torch.float64)\n"
          ]
        }
      ]
    },
    {
      "cell_type": "code",
      "source": [
        "print(x - y)\n",
        "print(torch.subtract(x, y))"
      ],
      "metadata": {
        "colab": {
          "base_uri": "https://localhost:8080/"
        },
        "id": "Jyftv4bxVn2u",
        "outputId": "1c63c8a7-8aca-4bd5-fae8-72c36ea6f8d9"
      },
      "execution_count": 40,
      "outputs": [
        {
          "output_type": "stream",
          "name": "stdout",
          "text": [
            "tensor([[-4., -4.],\n",
            "        [-4., -4.]], dtype=torch.float64)\n",
            "tensor([[-4., -4.],\n",
            "        [-4., -4.]], dtype=torch.float64)\n"
          ]
        }
      ]
    },
    {
      "cell_type": "code",
      "source": [
        "print(x * y)\n",
        "print(torch.multiply(x, y))"
      ],
      "metadata": {
        "colab": {
          "base_uri": "https://localhost:8080/"
        },
        "id": "II_7prukVrPN",
        "outputId": "389bca54-7d32-47a3-880c-0db598611e0d"
      },
      "execution_count": 41,
      "outputs": [
        {
          "output_type": "stream",
          "name": "stdout",
          "text": [
            "tensor([[ 5., 12.],\n",
            "        [21., 32.]], dtype=torch.float64)\n",
            "tensor([[ 5., 12.],\n",
            "        [21., 32.]], dtype=torch.float64)\n"
          ]
        }
      ]
    },
    {
      "cell_type": "code",
      "source": [
        "print(x / y)\n",
        "print(torch.divide(x, y))"
      ],
      "metadata": {
        "colab": {
          "base_uri": "https://localhost:8080/"
        },
        "id": "_AObnlupVvHd",
        "outputId": "19752d42-adf9-4426-bc41-7f24ec50cafb"
      },
      "execution_count": 42,
      "outputs": [
        {
          "output_type": "stream",
          "name": "stdout",
          "text": [
            "tensor([[0.2000, 0.3333],\n",
            "        [0.4286, 0.5000]], dtype=torch.float64)\n",
            "tensor([[0.2000, 0.3333],\n",
            "        [0.4286, 0.5000]], dtype=torch.float64)\n"
          ]
        }
      ]
    },
    {
      "cell_type": "code",
      "source": [
        "print(torch.sqrt(x))"
      ],
      "metadata": {
        "colab": {
          "base_uri": "https://localhost:8080/"
        },
        "id": "-C-PnSQrVzgC",
        "outputId": "aa78818f-1c09-4a5c-9510-0c03e16a9a10"
      },
      "execution_count": 43,
      "outputs": [
        {
          "output_type": "stream",
          "name": "stdout",
          "text": [
            "tensor([[1.0000, 1.4142],\n",
            "        [1.7321, 2.0000]], dtype=torch.float64)\n"
          ]
        }
      ]
    },
    {
      "cell_type": "code",
      "source": [
        "a = tensor([1,2])\n",
        "b = tensor([2,1])\n",
        "torch.dot(a,b)"
      ],
      "metadata": {
        "id": "J27qyk5LWJAJ",
        "colab": {
          "base_uri": "https://localhost:8080/"
        },
        "outputId": "d3c44f3b-0b15-4a30-d5fd-6299265d2cbb"
      },
      "execution_count": 44,
      "outputs": [
        {
          "output_type": "execute_result",
          "data": {
            "text/plain": [
              "tensor(4)"
            ]
          },
          "metadata": {},
          "execution_count": 44
        }
      ]
    },
    {
      "cell_type": "code",
      "source": [
        "print(torch.matmul(x, y))"
      ],
      "metadata": {
        "colab": {
          "base_uri": "https://localhost:8080/"
        },
        "id": "Am9z4j5AV2Et",
        "outputId": "0d80a5c5-7830-46c6-9600-94e5c5fb271a"
      },
      "execution_count": 45,
      "outputs": [
        {
          "output_type": "stream",
          "name": "stdout",
          "text": [
            "tensor([[19., 22.],\n",
            "        [43., 50.]], dtype=torch.float64)\n"
          ]
        }
      ]
    },
    {
      "cell_type": "code",
      "source": [
        "torch.sum(x)"
      ],
      "metadata": {
        "colab": {
          "base_uri": "https://localhost:8080/"
        },
        "id": "yZfFg-srWVez",
        "outputId": "e23b374d-7979-4e8f-f51c-25202ee696b5"
      },
      "execution_count": 46,
      "outputs": [
        {
          "output_type": "execute_result",
          "data": {
            "text/plain": [
              "tensor(10., dtype=torch.float64)"
            ]
          },
          "metadata": {},
          "execution_count": 46
        }
      ]
    },
    {
      "cell_type": "code",
      "source": [
        "print(torch.sum(x, axis=0))  # Compute sum of each column\n",
        "print(torch.sum(x, axis=1))  # Compute sum of each row"
      ],
      "metadata": {
        "colab": {
          "base_uri": "https://localhost:8080/"
        },
        "id": "kFtEH7U4WYws",
        "outputId": "ce50106d-3c2a-40d9-d5e0-1ce22bb6f9ec"
      },
      "execution_count": 47,
      "outputs": [
        {
          "output_type": "stream",
          "name": "stdout",
          "text": [
            "tensor([4., 6.], dtype=torch.float64)\n",
            "tensor([3., 7.], dtype=torch.float64)\n"
          ]
        }
      ]
    },
    {
      "cell_type": "code",
      "source": [
        "a, a.shape"
      ],
      "metadata": {
        "colab": {
          "base_uri": "https://localhost:8080/"
        },
        "id": "KhBnRuO7WcYa",
        "outputId": "3b64c53a-85ce-4165-f466-4b3e82f21184"
      },
      "execution_count": 48,
      "outputs": [
        {
          "output_type": "execute_result",
          "data": {
            "text/plain": [
              "(tensor([1, 2]), torch.Size([2]))"
            ]
          },
          "metadata": {},
          "execution_count": 48
        }
      ]
    },
    {
      "cell_type": "code",
      "source": [
        "# Transpose\n",
        "a.T, a.T.shape"
      ],
      "metadata": {
        "colab": {
          "base_uri": "https://localhost:8080/"
        },
        "id": "CwEe1WE6Wfpf",
        "outputId": "9d8f12cf-dd84-451a-e64c-4a3096f53f5f"
      },
      "execution_count": 49,
      "outputs": [
        {
          "output_type": "stream",
          "name": "stderr",
          "text": [
            "<ipython-input-49-8838559511b9>:2: UserWarning: The use of `x.T` on tensors of dimension other than 2 to reverse their shape is deprecated and it will throw an error in a future release. Consider `x.mT` to transpose batches of matrices or `x.permute(*torch.arange(x.ndim - 1, -1, -1))` to reverse the dimensions of a tensor. (Triggered internally at ../aten/src/ATen/native/TensorShape.cpp:3277.)\n",
            "  a.T, a.T.shape\n"
          ]
        },
        {
          "output_type": "execute_result",
          "data": {
            "text/plain": [
              "(tensor([1, 2]), torch.Size([2]))"
            ]
          },
          "metadata": {},
          "execution_count": 49
        }
      ]
    },
    {
      "cell_type": "code",
      "source": [
        "# Concatenation [similar to np.concatenate]\n",
        "x = torch.randn(2, 3)\n",
        "y = torch.randn(2, 3)\n",
        "z = torch.cat([x, y], dim=0) # dim = 0 means y axis or add vertically\n",
        "print(z)"
      ],
      "metadata": {
        "colab": {
          "base_uri": "https://localhost:8080/"
        },
        "id": "UOIqIA-PX8f1",
        "outputId": "4d827e85-fcd2-4714-b23a-ff1a71dc2318"
      },
      "execution_count": 50,
      "outputs": [
        {
          "output_type": "stream",
          "name": "stdout",
          "text": [
            "tensor([[-0.2595, -0.4722,  1.3502],\n",
            "        [ 0.6182, -0.0496, -0.6640],\n",
            "        [ 0.6492, -0.7024,  2.0115],\n",
            "        [-0.2521, -0.3809, -1.5545]])\n"
          ]
        }
      ]
    },
    {
      "cell_type": "code",
      "source": [
        "# Concatenation [similar to np.concatenate]\n",
        "x = torch.randn(2, 3)\n",
        "y = torch.randn(2, 3)\n",
        "z = torch.cat([x, y], dim=1) # dim = 1 means x axis or add horizontally\n",
        "print(z)"
      ],
      "metadata": {
        "colab": {
          "base_uri": "https://localhost:8080/"
        },
        "id": "CXZttTg1ifnd",
        "outputId": "f16bb775-e9c5-4f2a-d64b-f777ebfbc979"
      },
      "execution_count": 51,
      "outputs": [
        {
          "output_type": "stream",
          "name": "stdout",
          "text": [
            "tensor([[ 1.4733,  0.7635, -0.8499, -0.2507,  0.0556, -0.0440],\n",
            "        [-0.4651,  0.8236, -0.2548, -0.6339, -0.5691, -0.4645]])\n"
          ]
        }
      ]
    },
    {
      "cell_type": "code",
      "source": [
        "# Stacking [Warning: stacking and concatenation is not same]\n",
        "x = torch.randn(2, 3)\n",
        "y = torch.randn(2, 3)\n",
        "z = torch.stack([x, y], dim=0)\n",
        "print(z)"
      ],
      "metadata": {
        "colab": {
          "base_uri": "https://localhost:8080/"
        },
        "id": "gmqqHhDdYZlP",
        "outputId": "10b1b72b-92e4-4332-cd83-2a54773df4df"
      },
      "execution_count": 52,
      "outputs": [
        {
          "output_type": "stream",
          "name": "stdout",
          "text": [
            "tensor([[[ 0.6310, -0.7211, -2.1101],\n",
            "         [-0.3327, -0.6210,  1.3855]],\n",
            "\n",
            "        [[-1.5838, -0.1685,  0.3344],\n",
            "         [ 0.7440, -1.2871,  0.8530]]])\n"
          ]
        }
      ]
    },
    {
      "cell_type": "code",
      "source": [
        "# Convert data type\n",
        "x = tensor([[1,2,3], [4,5,6], [7,8,9], [10, 11, 12]])\n",
        "x.float()"
      ],
      "metadata": {
        "colab": {
          "base_uri": "https://localhost:8080/"
        },
        "id": "9tMFmUamZD8v",
        "outputId": "832b9ab1-aee5-4a16-dce0-9fa264482621"
      },
      "execution_count": 53,
      "outputs": [
        {
          "output_type": "execute_result",
          "data": {
            "text/plain": [
              "tensor([[ 1.,  2.,  3.],\n",
              "        [ 4.,  5.,  6.],\n",
              "        [ 7.,  8.,  9.],\n",
              "        [10., 11., 12.]])"
            ]
          },
          "metadata": {},
          "execution_count": 53
        }
      ]
    },
    {
      "cell_type": "code",
      "source": [
        "x = torch.randn(2, 3)\n",
        "print(x)\n",
        "print(x.int())"
      ],
      "metadata": {
        "colab": {
          "base_uri": "https://localhost:8080/"
        },
        "id": "IWrzL707ZQPO",
        "outputId": "71d311a2-cd1a-47e7-d249-ee27106e8b55"
      },
      "execution_count": 54,
      "outputs": [
        {
          "output_type": "stream",
          "name": "stdout",
          "text": [
            "tensor([[-1.1188,  1.7180, -0.3243],\n",
            "        [ 1.1722, -0.1745, -0.0180]])\n",
            "tensor([[-1,  1,  0],\n",
            "        [ 1,  0,  0]], dtype=torch.int32)\n"
          ]
        }
      ]
    },
    {
      "cell_type": "markdown",
      "source": [
        "# Broadcasting"
      ],
      "metadata": {
        "id": "4J8FwhbHWh66"
      }
    },
    {
      "cell_type": "code",
      "source": [
        "x = tensor([[1,2,3], [4,5,6], [7,8,9], [10, 11, 12]])\n",
        "v = tensor([1, 0, 1])\n",
        "y = x + v  # Add v to each row of x using broadcasting\n",
        "print(y)"
      ],
      "metadata": {
        "colab": {
          "base_uri": "https://localhost:8080/"
        },
        "id": "6w2R80HpWjdz",
        "outputId": "30b0e31a-ba73-472e-b4c6-e358cd65f171"
      },
      "execution_count": 55,
      "outputs": [
        {
          "output_type": "stream",
          "name": "stdout",
          "text": [
            "tensor([[ 2,  2,  4],\n",
            "        [ 5,  5,  7],\n",
            "        [ 8,  8, 10],\n",
            "        [11, 11, 13]])\n"
          ]
        }
      ]
    },
    {
      "cell_type": "code",
      "source": [
        "x = tensor([[1,2,3], [4,5,6]])\n",
        "y = tensor([4,5])\n",
        "(x.T+y).T"
      ],
      "metadata": {
        "colab": {
          "base_uri": "https://localhost:8080/"
        },
        "id": "TAdlRqDvWnbm",
        "outputId": "783f1de9-40fd-4f46-c7c8-82a860bf9885"
      },
      "execution_count": 56,
      "outputs": [
        {
          "output_type": "execute_result",
          "data": {
            "text/plain": [
              "tensor([[ 5,  6,  7],\n",
              "        [ 9, 10, 11]])"
            ]
          },
          "metadata": {},
          "execution_count": 56
        }
      ]
    },
    {
      "cell_type": "code",
      "source": [
        "x*2"
      ],
      "metadata": {
        "colab": {
          "base_uri": "https://localhost:8080/"
        },
        "id": "J7oT8uPTW1v-",
        "outputId": "2e5702b1-2913-40b9-df95-9fc23f26d60b"
      },
      "execution_count": 57,
      "outputs": [
        {
          "output_type": "execute_result",
          "data": {
            "text/plain": [
              "tensor([[ 2,  4,  6],\n",
              "        [ 8, 10, 12]])"
            ]
          },
          "metadata": {},
          "execution_count": 57
        }
      ]
    },
    {
      "cell_type": "code",
      "source": [
        "x+2"
      ],
      "metadata": {
        "colab": {
          "base_uri": "https://localhost:8080/"
        },
        "id": "pf5gZMv_W4qm",
        "outputId": "91d2fe7c-af94-4dc1-adfe-3044d62efedd"
      },
      "execution_count": 58,
      "outputs": [
        {
          "output_type": "execute_result",
          "data": {
            "text/plain": [
              "tensor([[3, 4, 5],\n",
              "        [6, 7, 8]])"
            ]
          },
          "metadata": {},
          "execution_count": 58
        }
      ]
    }
  ]
}