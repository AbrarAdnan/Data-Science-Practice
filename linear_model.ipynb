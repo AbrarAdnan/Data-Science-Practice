{
  "cells": [
    {
      "cell_type": "markdown",
      "metadata": {
        "id": "view-in-github",
        "colab_type": "text"
      },
      "source": [
        "<a href=\"https://colab.research.google.com/github/AbrarAdnan/Data-Science-practice/blob/main/linear_model.ipynb\" target=\"_parent\"><img src=\"https://colab.research.google.com/assets/colab-badge.svg\" alt=\"Open In Colab\"/></a>"
      ]
    },
    {
      "cell_type": "markdown",
      "metadata": {
        "id": "H24CBxsvZp08"
      },
      "source": [
        "# Setting Up Necessary Things"
      ]
    },
    {
      "cell_type": "code",
      "execution_count": null,
      "metadata": {
        "id": "BVgK2-bBZXsV"
      },
      "outputs": [],
      "source": [
        "%reload_ext autoreload\n",
        "%autoreload 2\n",
        "%matplotlib inline"
      ]
    },
    {
      "cell_type": "code",
      "execution_count": null,
      "metadata": {
        "id": "DQgcA-ebZrF1"
      },
      "outputs": [],
      "source": [
        "import torch\n",
        "import numpy as np\n",
        "import pandas as pd\n",
        "from torch import tensor"
      ]
    },
    {
      "cell_type": "code",
      "execution_count": null,
      "metadata": {
        "colab": {
          "base_uri": "https://localhost:8080/"
        },
        "id": "yGCxk4k6ZtSW",
        "outputId": "7c11f5d5-c3f8-4dc4-fc36-1a0dcafcc649"
      },
      "outputs": [
        {
          "name": "stdout",
          "output_type": "stream",
          "text": [
            "Mounted at /content/drive\n"
          ]
        }
      ],
      "source": [
        "from google.colab import drive\n",
        "drive.mount('/content/drive')"
      ]
    },
    {
      "cell_type": "code",
      "execution_count": null,
      "metadata": {
        "colab": {
          "base_uri": "https://localhost:8080/"
        },
        "id": "LKNuu4o5ZvIV",
        "outputId": "350cbc12-d2cd-4241-dbeb-6117c6d8c250"
      },
      "outputs": [
        {
          "name": "stdout",
          "output_type": "stream",
          "text": [
            "/content/drive/MyDrive/MasterCourse/Week 11 - Building Neural Networks with PyTorch/Lecture 41 - Build A Linear Model\n"
          ]
        }
      ],
      "source": [
        "%cd /content/drive/MyDrive/MasterCourse/Week 11 - Building Neural Networks with PyTorch/Lecture 41 - Build A Linear Model"
      ]
    },
    {
      "cell_type": "markdown",
      "metadata": {
        "id": "rteSxjSRZ07Q"
      },
      "source": [
        "# Get Data"
      ]
    },
    {
      "cell_type": "markdown",
      "metadata": {
        "id": "zjYRKvVPaSjg"
      },
      "source": [
        "The reason we converted categorical values into numbers because computer do not understand text."
      ]
    },
    {
      "cell_type": "code",
      "execution_count": null,
      "metadata": {
        "colab": {
          "base_uri": "https://localhost:8080/",
          "height": 334
        },
        "id": "qGc2T1K-Z2UF",
        "outputId": "276153ee-5045-4157-c0b6-ac35d88b9d49"
      },
      "outputs": [
        {
          "output_type": "execute_result",
          "data": {
            "text/plain": [
              "   age  fnlwgt  educational-num  hours-per-week  log-capital-gain  \\\n",
              "0   71   77253                9              17               0.0   \n",
              "1   17  329783                6              10               0.0   \n",
              "2   27   91257                9              40               0.0   \n",
              "3   43  125577                9              40               0.0   \n",
              "4   31  137978               13              40               0.0   \n",
              "\n",
              "   log-capital-loss  private_workclass  postgrad_education  \\\n",
              "0               0.0               True                   0   \n",
              "1               0.0               True                   0   \n",
              "2               0.0               True                   0   \n",
              "3               0.0               True                   0   \n",
              "4               0.0               True                   0   \n",
              "\n",
              "   after_HS_education  school_education  ...  relationship_Husband  \\\n",
              "0                   1                 0  ...                     0   \n",
              "1                   0                 1  ...                     0   \n",
              "2                   1                 0  ...                     1   \n",
              "3                   1                 0  ...                     0   \n",
              "4                   1                 0  ...                     1   \n",
              "\n",
              "   relationship_Not-in-family  relationship_Other-relative  \\\n",
              "0                           1                            0   \n",
              "1                           0                            1   \n",
              "2                           0                            0   \n",
              "3                           0                            0   \n",
              "4                           0                            0   \n",
              "\n",
              "   relationship_Own-child  relationship_Unmarried  relationship_Wife  \\\n",
              "0                       0                       0                  0   \n",
              "1                       0                       0                  0   \n",
              "2                       0                       0                  0   \n",
              "3                       0                       1                  0   \n",
              "4                       0                       0                  0   \n",
              "\n",
              "   race_white  gender_male  country_US  high_income  \n",
              "0        True         True        True        False  \n",
              "1        True        False        True        False  \n",
              "2        True         True       False        False  \n",
              "3       False        False        True        False  \n",
              "4        True         True        True        False  \n",
              "\n",
              "[5 rows x 25 columns]"
            ],
            "text/html": [
              "\n",
              "  <div id=\"df-7f062044-7ed4-4226-a095-f4e4e244b972\">\n",
              "    <div class=\"colab-df-container\">\n",
              "      <div>\n",
              "<style scoped>\n",
              "    .dataframe tbody tr th:only-of-type {\n",
              "        vertical-align: middle;\n",
              "    }\n",
              "\n",
              "    .dataframe tbody tr th {\n",
              "        vertical-align: top;\n",
              "    }\n",
              "\n",
              "    .dataframe thead th {\n",
              "        text-align: right;\n",
              "    }\n",
              "</style>\n",
              "<table border=\"1\" class=\"dataframe\">\n",
              "  <thead>\n",
              "    <tr style=\"text-align: right;\">\n",
              "      <th></th>\n",
              "      <th>age</th>\n",
              "      <th>fnlwgt</th>\n",
              "      <th>educational-num</th>\n",
              "      <th>hours-per-week</th>\n",
              "      <th>log-capital-gain</th>\n",
              "      <th>log-capital-loss</th>\n",
              "      <th>private_workclass</th>\n",
              "      <th>postgrad_education</th>\n",
              "      <th>after_HS_education</th>\n",
              "      <th>school_education</th>\n",
              "      <th>...</th>\n",
              "      <th>relationship_Husband</th>\n",
              "      <th>relationship_Not-in-family</th>\n",
              "      <th>relationship_Other-relative</th>\n",
              "      <th>relationship_Own-child</th>\n",
              "      <th>relationship_Unmarried</th>\n",
              "      <th>relationship_Wife</th>\n",
              "      <th>race_white</th>\n",
              "      <th>gender_male</th>\n",
              "      <th>country_US</th>\n",
              "      <th>high_income</th>\n",
              "    </tr>\n",
              "  </thead>\n",
              "  <tbody>\n",
              "    <tr>\n",
              "      <th>0</th>\n",
              "      <td>71</td>\n",
              "      <td>77253</td>\n",
              "      <td>9</td>\n",
              "      <td>17</td>\n",
              "      <td>0.0</td>\n",
              "      <td>0.0</td>\n",
              "      <td>True</td>\n",
              "      <td>0</td>\n",
              "      <td>1</td>\n",
              "      <td>0</td>\n",
              "      <td>...</td>\n",
              "      <td>0</td>\n",
              "      <td>1</td>\n",
              "      <td>0</td>\n",
              "      <td>0</td>\n",
              "      <td>0</td>\n",
              "      <td>0</td>\n",
              "      <td>True</td>\n",
              "      <td>True</td>\n",
              "      <td>True</td>\n",
              "      <td>False</td>\n",
              "    </tr>\n",
              "    <tr>\n",
              "      <th>1</th>\n",
              "      <td>17</td>\n",
              "      <td>329783</td>\n",
              "      <td>6</td>\n",
              "      <td>10</td>\n",
              "      <td>0.0</td>\n",
              "      <td>0.0</td>\n",
              "      <td>True</td>\n",
              "      <td>0</td>\n",
              "      <td>0</td>\n",
              "      <td>1</td>\n",
              "      <td>...</td>\n",
              "      <td>0</td>\n",
              "      <td>0</td>\n",
              "      <td>1</td>\n",
              "      <td>0</td>\n",
              "      <td>0</td>\n",
              "      <td>0</td>\n",
              "      <td>True</td>\n",
              "      <td>False</td>\n",
              "      <td>True</td>\n",
              "      <td>False</td>\n",
              "    </tr>\n",
              "    <tr>\n",
              "      <th>2</th>\n",
              "      <td>27</td>\n",
              "      <td>91257</td>\n",
              "      <td>9</td>\n",
              "      <td>40</td>\n",
              "      <td>0.0</td>\n",
              "      <td>0.0</td>\n",
              "      <td>True</td>\n",
              "      <td>0</td>\n",
              "      <td>1</td>\n",
              "      <td>0</td>\n",
              "      <td>...</td>\n",
              "      <td>1</td>\n",
              "      <td>0</td>\n",
              "      <td>0</td>\n",
              "      <td>0</td>\n",
              "      <td>0</td>\n",
              "      <td>0</td>\n",
              "      <td>True</td>\n",
              "      <td>True</td>\n",
              "      <td>False</td>\n",
              "      <td>False</td>\n",
              "    </tr>\n",
              "    <tr>\n",
              "      <th>3</th>\n",
              "      <td>43</td>\n",
              "      <td>125577</td>\n",
              "      <td>9</td>\n",
              "      <td>40</td>\n",
              "      <td>0.0</td>\n",
              "      <td>0.0</td>\n",
              "      <td>True</td>\n",
              "      <td>0</td>\n",
              "      <td>1</td>\n",
              "      <td>0</td>\n",
              "      <td>...</td>\n",
              "      <td>0</td>\n",
              "      <td>0</td>\n",
              "      <td>0</td>\n",
              "      <td>0</td>\n",
              "      <td>1</td>\n",
              "      <td>0</td>\n",
              "      <td>False</td>\n",
              "      <td>False</td>\n",
              "      <td>True</td>\n",
              "      <td>False</td>\n",
              "    </tr>\n",
              "    <tr>\n",
              "      <th>4</th>\n",
              "      <td>31</td>\n",
              "      <td>137978</td>\n",
              "      <td>13</td>\n",
              "      <td>40</td>\n",
              "      <td>0.0</td>\n",
              "      <td>0.0</td>\n",
              "      <td>True</td>\n",
              "      <td>0</td>\n",
              "      <td>1</td>\n",
              "      <td>0</td>\n",
              "      <td>...</td>\n",
              "      <td>1</td>\n",
              "      <td>0</td>\n",
              "      <td>0</td>\n",
              "      <td>0</td>\n",
              "      <td>0</td>\n",
              "      <td>0</td>\n",
              "      <td>True</td>\n",
              "      <td>True</td>\n",
              "      <td>True</td>\n",
              "      <td>False</td>\n",
              "    </tr>\n",
              "  </tbody>\n",
              "</table>\n",
              "<p>5 rows × 25 columns</p>\n",
              "</div>\n",
              "      <button class=\"colab-df-convert\" onclick=\"convertToInteractive('df-7f062044-7ed4-4226-a095-f4e4e244b972')\"\n",
              "              title=\"Convert this dataframe to an interactive table.\"\n",
              "              style=\"display:none;\">\n",
              "        \n",
              "  <svg xmlns=\"http://www.w3.org/2000/svg\" height=\"24px\"viewBox=\"0 0 24 24\"\n",
              "       width=\"24px\">\n",
              "    <path d=\"M0 0h24v24H0V0z\" fill=\"none\"/>\n",
              "    <path d=\"M18.56 5.44l.94 2.06.94-2.06 2.06-.94-2.06-.94-.94-2.06-.94 2.06-2.06.94zm-11 1L8.5 8.5l.94-2.06 2.06-.94-2.06-.94L8.5 2.5l-.94 2.06-2.06.94zm10 10l.94 2.06.94-2.06 2.06-.94-2.06-.94-.94-2.06-.94 2.06-2.06.94z\"/><path d=\"M17.41 7.96l-1.37-1.37c-.4-.4-.92-.59-1.43-.59-.52 0-1.04.2-1.43.59L10.3 9.45l-7.72 7.72c-.78.78-.78 2.05 0 2.83L4 21.41c.39.39.9.59 1.41.59.51 0 1.02-.2 1.41-.59l7.78-7.78 2.81-2.81c.8-.78.8-2.07 0-2.86zM5.41 20L4 18.59l7.72-7.72 1.47 1.35L5.41 20z\"/>\n",
              "  </svg>\n",
              "      </button>\n",
              "      \n",
              "  <style>\n",
              "    .colab-df-container {\n",
              "      display:flex;\n",
              "      flex-wrap:wrap;\n",
              "      gap: 12px;\n",
              "    }\n",
              "\n",
              "    .colab-df-convert {\n",
              "      background-color: #E8F0FE;\n",
              "      border: none;\n",
              "      border-radius: 50%;\n",
              "      cursor: pointer;\n",
              "      display: none;\n",
              "      fill: #1967D2;\n",
              "      height: 32px;\n",
              "      padding: 0 0 0 0;\n",
              "      width: 32px;\n",
              "    }\n",
              "\n",
              "    .colab-df-convert:hover {\n",
              "      background-color: #E2EBFA;\n",
              "      box-shadow: 0px 1px 2px rgba(60, 64, 67, 0.3), 0px 1px 3px 1px rgba(60, 64, 67, 0.15);\n",
              "      fill: #174EA6;\n",
              "    }\n",
              "\n",
              "    [theme=dark] .colab-df-convert {\n",
              "      background-color: #3B4455;\n",
              "      fill: #D2E3FC;\n",
              "    }\n",
              "\n",
              "    [theme=dark] .colab-df-convert:hover {\n",
              "      background-color: #434B5C;\n",
              "      box-shadow: 0px 1px 3px 1px rgba(0, 0, 0, 0.15);\n",
              "      filter: drop-shadow(0px 1px 2px rgba(0, 0, 0, 0.3));\n",
              "      fill: #FFFFFF;\n",
              "    }\n",
              "  </style>\n",
              "\n",
              "      <script>\n",
              "        const buttonEl =\n",
              "          document.querySelector('#df-7f062044-7ed4-4226-a095-f4e4e244b972 button.colab-df-convert');\n",
              "        buttonEl.style.display =\n",
              "          google.colab.kernel.accessAllowed ? 'block' : 'none';\n",
              "\n",
              "        async function convertToInteractive(key) {\n",
              "          const element = document.querySelector('#df-7f062044-7ed4-4226-a095-f4e4e244b972');\n",
              "          const dataTable =\n",
              "            await google.colab.kernel.invokeFunction('convertToInteractive',\n",
              "                                                     [key], {});\n",
              "          if (!dataTable) return;\n",
              "\n",
              "          const docLinkHtml = 'Like what you see? Visit the ' +\n",
              "            '<a target=\"_blank\" href=https://colab.research.google.com/notebooks/data_table.ipynb>data table notebook</a>'\n",
              "            + ' to learn more about interactive tables.';\n",
              "          element.innerHTML = '';\n",
              "          dataTable['output_type'] = 'display_data';\n",
              "          await google.colab.output.renderOutput(dataTable, element);\n",
              "          const docLink = document.createElement('div');\n",
              "          docLink.innerHTML = docLinkHtml;\n",
              "          element.appendChild(docLink);\n",
              "        }\n",
              "      </script>\n",
              "    </div>\n",
              "  </div>\n",
              "  "
            ]
          },
          "metadata": {},
          "execution_count": 13
        }
      ],
      "source": [
        "train_df = pd.read_csv(\"adult_train.csv\")\n",
        "test_df = pd.read_csv(\"adult_test.csv\")\n",
        "train_df.head()"
      ]
    },
    {
      "cell_type": "code",
      "execution_count": null,
      "metadata": {
        "colab": {
          "base_uri": "https://localhost:8080/"
        },
        "id": "qj-DEcF0Z57d",
        "outputId": "9a37d140-ea25-49e5-f9ea-e6ef6aa780c2"
      },
      "outputs": [
        {
          "output_type": "execute_result",
          "data": {
            "text/plain": [
              "((39073, 25), (9769, 25))"
            ]
          },
          "metadata": {},
          "execution_count": 14
        }
      ],
      "source": [
        "train_df.shape, test_df.shape"
      ]
    },
    {
      "cell_type": "code",
      "execution_count": null,
      "metadata": {
        "colab": {
          "base_uri": "https://localhost:8080/"
        },
        "id": "F8CpdQHCbm9G",
        "outputId": "1fe97958-693f-400d-9412-8808abfe8113"
      },
      "outputs": [
        {
          "output_type": "execute_result",
          "data": {
            "text/plain": [
              "Index(['age', 'fnlwgt', 'educational-num', 'hours-per-week',\n",
              "       'log-capital-gain', 'log-capital-loss', 'private_workclass',\n",
              "       'postgrad_education', 'after_HS_education', 'school_education',\n",
              "       'married', 'occupation_cat_blue_collar', 'occupation_cat_others',\n",
              "       'occupation_cat_service', 'occupation_cat_white_collar',\n",
              "       'relationship_Husband', 'relationship_Not-in-family',\n",
              "       'relationship_Other-relative', 'relationship_Own-child',\n",
              "       'relationship_Unmarried', 'relationship_Wife', 'race_white',\n",
              "       'gender_male', 'country_US', 'high_income'],\n",
              "      dtype='object')"
            ]
          },
          "metadata": {},
          "execution_count": 15
        }
      ],
      "source": [
        "train_df.columns"
      ]
    },
    {
      "cell_type": "code",
      "execution_count": null,
      "metadata": {
        "colab": {
          "base_uri": "https://localhost:8080/"
        },
        "id": "dA78MYhWbjkO",
        "outputId": "9a640be4-cb0d-48a4-ff2f-3ceb92e24d24"
      },
      "outputs": [
        {
          "output_type": "execute_result",
          "data": {
            "text/plain": [
              "tensor([0, 0, 0, 0, 0], dtype=torch.int32)"
            ]
          },
          "metadata": {},
          "execution_count": 16
        }
      ],
      "source": [
        "labels = tensor(train_df.high_income, dtype=torch.int)\n",
        "labels[:5]"
      ]
    },
    {
      "cell_type": "code",
      "execution_count": null,
      "metadata": {
        "colab": {
          "base_uri": "https://localhost:8080/"
        },
        "id": "37C4mitwcTuf",
        "outputId": "ca8c463c-4e55-4744-de88-056bedfb20a3"
      },
      "outputs": [
        {
          "output_type": "execute_result",
          "data": {
            "text/plain": [
              "tensor([[7.1000e+01, 7.7253e+04, 9.0000e+00, 1.7000e+01, 0.0000e+00, 0.0000e+00,\n",
              "         1.0000e+00, 0.0000e+00, 1.0000e+00, 0.0000e+00, 0.0000e+00, 1.0000e+00,\n",
              "         0.0000e+00, 0.0000e+00, 0.0000e+00, 0.0000e+00, 1.0000e+00, 0.0000e+00,\n",
              "         0.0000e+00, 0.0000e+00, 0.0000e+00, 1.0000e+00, 1.0000e+00, 1.0000e+00],\n",
              "        [1.7000e+01, 3.2978e+05, 6.0000e+00, 1.0000e+01, 0.0000e+00, 0.0000e+00,\n",
              "         1.0000e+00, 0.0000e+00, 0.0000e+00, 1.0000e+00, 0.0000e+00, 0.0000e+00,\n",
              "         0.0000e+00, 0.0000e+00, 1.0000e+00, 0.0000e+00, 0.0000e+00, 1.0000e+00,\n",
              "         0.0000e+00, 0.0000e+00, 0.0000e+00, 1.0000e+00, 0.0000e+00, 1.0000e+00],\n",
              "        [2.7000e+01, 9.1257e+04, 9.0000e+00, 4.0000e+01, 0.0000e+00, 0.0000e+00,\n",
              "         1.0000e+00, 0.0000e+00, 1.0000e+00, 0.0000e+00, 1.0000e+00, 0.0000e+00,\n",
              "         0.0000e+00, 1.0000e+00, 0.0000e+00, 1.0000e+00, 0.0000e+00, 0.0000e+00,\n",
              "         0.0000e+00, 0.0000e+00, 0.0000e+00, 1.0000e+00, 1.0000e+00, 0.0000e+00],\n",
              "        [4.3000e+01, 1.2558e+05, 9.0000e+00, 4.0000e+01, 0.0000e+00, 0.0000e+00,\n",
              "         1.0000e+00, 0.0000e+00, 1.0000e+00, 0.0000e+00, 0.0000e+00, 0.0000e+00,\n",
              "         0.0000e+00, 0.0000e+00, 1.0000e+00, 0.0000e+00, 0.0000e+00, 0.0000e+00,\n",
              "         0.0000e+00, 1.0000e+00, 0.0000e+00, 0.0000e+00, 0.0000e+00, 1.0000e+00],\n",
              "        [3.1000e+01, 1.3798e+05, 1.3000e+01, 4.0000e+01, 0.0000e+00, 0.0000e+00,\n",
              "         1.0000e+00, 0.0000e+00, 1.0000e+00, 0.0000e+00, 1.0000e+00, 0.0000e+00,\n",
              "         0.0000e+00, 0.0000e+00, 1.0000e+00, 1.0000e+00, 0.0000e+00, 0.0000e+00,\n",
              "         0.0000e+00, 0.0000e+00, 0.0000e+00, 1.0000e+00, 1.0000e+00, 1.0000e+00]])"
            ]
          },
          "metadata": {},
          "execution_count": 17
        }
      ],
      "source": [
        "feature_df = train_df[train_df.columns[:-1]].astype(float)\n",
        "features = tensor(feature_df.values, dtype=torch.float)\n",
        "features[:5]"
      ]
    },
    {
      "cell_type": "code",
      "execution_count": null,
      "metadata": {
        "colab": {
          "base_uri": "https://localhost:8080/"
        },
        "id": "Rp9w8m87eC13",
        "outputId": "6a6bb490-c671-4722-9a82-21d6c29ad5ae"
      },
      "outputs": [
        {
          "output_type": "execute_result",
          "data": {
            "text/plain": [
              "(torch.Size([39073, 24]), torch.Size([39073]))"
            ]
          },
          "metadata": {},
          "execution_count": 18
        }
      ],
      "source": [
        "features.shape, labels.shape"
      ]
    },
    {
      "cell_type": "markdown",
      "metadata": {
        "id": "PQneGqMteXVW"
      },
      "source": [
        "# One Step of Linear Model\n",
        "\n",
        "1. Initialize weights randomly and normalize data\n",
        "2. Calculate Prediction (weights * features) { $h(x) = W * x$ }\n",
        "3. Calculate Loss\n",
        "4. Backpropagation\n",
        "5. Gradient Step $W = W - lr * grad$"
      ]
    },
    {
      "cell_type": "markdown",
      "metadata": {
        "id": "p9JITeJLtibT"
      },
      "source": [
        "### Initialize weights randomly"
      ]
    },
    {
      "cell_type": "code",
      "execution_count": null,
      "metadata": {
        "colab": {
          "base_uri": "https://localhost:8080/"
        },
        "id": "Vj80F-0beZw_",
        "outputId": "e034269c-499e-4e86-dbf9-22747e973cf6"
      },
      "outputs": [
        {
          "output_type": "execute_result",
          "data": {
            "text/plain": [
              "tensor([0.8823, 0.9150, 0.3829, 0.9593, 0.3904, 0.6009, 0.2566, 0.7936, 0.9408,\n",
              "        0.1332, 0.9346, 0.5936, 0.8694, 0.5677, 0.7411, 0.4294, 0.8854, 0.5739,\n",
              "        0.2666, 0.6274, 0.2696, 0.4414, 0.2969, 0.8317])"
            ]
          },
          "metadata": {},
          "execution_count": 19
        }
      ],
      "source": [
        "torch.manual_seed(42)\n",
        "n_params = features.shape[1]\n",
        "weights = torch.rand(n_params)\n",
        "weights"
      ]
    },
    {
      "cell_type": "code",
      "execution_count": null,
      "metadata": {
        "colab": {
          "base_uri": "https://localhost:8080/"
        },
        "id": "f-CHnFNAsEeC",
        "outputId": "90a88599-7fbf-478c-f9dd-93388157ae66"
      },
      "outputs": [
        {
          "output_type": "execute_result",
          "data": {
            "text/plain": [
              "torch.Size([24])"
            ]
          },
          "metadata": {},
          "execution_count": 20
        }
      ],
      "source": [
        "weights.shape"
      ]
    },
    {
      "cell_type": "markdown",
      "metadata": {
        "id": "8_ba-fOHtnFJ"
      },
      "source": [
        "### Normalization"
      ]
    },
    {
      "cell_type": "code",
      "execution_count": null,
      "metadata": {
        "colab": {
          "base_uri": "https://localhost:8080/"
        },
        "id": "Gcn5jD1Ie0Qu",
        "outputId": "59b380c3-41d5-4b40-f2f6-780e754dca5d"
      },
      "outputs": [
        {
          "output_type": "execute_result",
          "data": {
            "text/plain": [
              "tensor([[0.7889, 0.0520, 0.5625,  ..., 1.0000, 1.0000, 1.0000],\n",
              "        [0.1889, 0.2221, 0.3750,  ..., 1.0000, 0.0000, 1.0000],\n",
              "        [0.3000, 0.0615, 0.5625,  ..., 1.0000, 1.0000, 0.0000],\n",
              "        ...,\n",
              "        [0.4000, 0.0920, 0.6250,  ..., 1.0000, 1.0000, 1.0000],\n",
              "        [0.3556, 0.0539, 0.5625,  ..., 1.0000, 1.0000, 1.0000],\n",
              "        [0.3333, 0.1355, 0.4375,  ..., 0.0000, 0.0000, 1.0000]])"
            ]
          },
          "metadata": {},
          "execution_count": 21
        }
      ],
      "source": [
        "max_value, _ = features.max(dim=0)\n",
        "features /= max_value\n",
        "features"
      ]
    },
    {
      "cell_type": "markdown",
      "metadata": {
        "id": "jpHPyjQYtr6Y"
      },
      "source": [
        "### Calculate Prediction"
      ]
    },
    {
      "cell_type": "code",
      "execution_count": null,
      "metadata": {
        "id": "lTJqQ0-phxyw"
      },
      "outputs": [],
      "source": [
        "def calculate_preds(weights, features):\n",
        "  mults = (features * weights)\n",
        "  preds = mults.sum(axis=1)\n",
        "  return preds"
      ]
    },
    {
      "cell_type": "code",
      "execution_count": null,
      "metadata": {
        "colab": {
          "base_uri": "https://localhost:8080/"
        },
        "id": "ROGGvNlhfzp_",
        "outputId": "a85c46af-4b08-458e-c160-ad27b5ed0b93"
      },
      "outputs": [
        {
          "output_type": "execute_result",
          "data": {
            "text/plain": [
              "tensor([5.3700, 3.5882, 4.7912, 4.4995, 5.9600])"
            ]
          },
          "metadata": {},
          "execution_count": 23
        }
      ],
      "source": [
        "preds = calculate_preds(weights, features)\n",
        "preds[:5]"
      ]
    },
    {
      "cell_type": "markdown",
      "metadata": {
        "id": "093Gf8n1t0Mh"
      },
      "source": [
        "### Calculate Loss"
      ]
    },
    {
      "cell_type": "code",
      "execution_count": null,
      "metadata": {
        "id": "ZYo259_Fh2Zn"
      },
      "outputs": [],
      "source": [
        "def calculate_loss(preds, labels):\n",
        "  return torch.abs(preds-labels).mean()"
      ]
    },
    {
      "cell_type": "code",
      "execution_count": null,
      "metadata": {
        "colab": {
          "base_uri": "https://localhost:8080/"
        },
        "id": "w55NvLTogPdI",
        "outputId": "9c02d423-1c4d-47cb-c2dc-d33d505c85d1"
      },
      "outputs": [
        {
          "output_type": "execute_result",
          "data": {
            "text/plain": [
              "tensor(4.9282)"
            ]
          },
          "metadata": {},
          "execution_count": 25
        }
      ],
      "source": [
        "loss = calculate_loss(preds, labels)\n",
        "loss"
      ]
    },
    {
      "cell_type": "markdown",
      "metadata": {
        "id": "dRzl08u_icqP"
      },
      "source": [
        "### Calculate Gradients and Backpropagation"
      ]
    },
    {
      "cell_type": "code",
      "execution_count": null,
      "metadata": {
        "colab": {
          "base_uri": "https://localhost:8080/"
        },
        "id": "78Tztt9MifV3",
        "outputId": "4d461439-ed12-4ed1-8f44-19c9f620593e"
      },
      "outputs": [
        {
          "output_type": "execute_result",
          "data": {
            "text/plain": [
              "tensor([0.8823, 0.9150, 0.3829, 0.9593, 0.3904, 0.6009, 0.2566, 0.7936, 0.9408,\n",
              "        0.1332, 0.9346, 0.5936, 0.8694, 0.5677, 0.7411, 0.4294, 0.8854, 0.5739,\n",
              "        0.2666, 0.6274, 0.2696, 0.4414, 0.2969, 0.8317], requires_grad=True)"
            ]
          },
          "metadata": {},
          "execution_count": 26
        }
      ],
      "source": [
        "weights.requires_grad_()"
      ]
    },
    {
      "cell_type": "code",
      "execution_count": null,
      "metadata": {
        "colab": {
          "base_uri": "https://localhost:8080/"
        },
        "id": "VIzZ_VsLiky3",
        "outputId": "7538bd80-2ab3-42ec-9974-5b0a2b264085"
      },
      "outputs": [
        {
          "output_type": "execute_result",
          "data": {
            "text/plain": [
              "tensor(4.9282, grad_fn=<MeanBackward0>)"
            ]
          },
          "metadata": {},
          "execution_count": 27
        }
      ],
      "source": [
        "preds = calculate_preds(weights, features)\n",
        "loss = calculate_loss(preds, labels)\n",
        "loss"
      ]
    },
    {
      "cell_type": "code",
      "execution_count": null,
      "metadata": {
        "id": "fH3aj4pli3YP"
      },
      "outputs": [],
      "source": [
        "# Backpropagation\n",
        "loss.backward()"
      ]
    },
    {
      "cell_type": "code",
      "execution_count": null,
      "metadata": {
        "colab": {
          "base_uri": "https://localhost:8080/"
        },
        "id": "kHJYCFdNi563",
        "outputId": "923a17a2-2503-45d2-fc6c-93c97cbe3f75"
      },
      "outputs": [
        {
          "output_type": "execute_result",
          "data": {
            "text/plain": [
              "tensor([0.4300, 0.1277, 0.6300, 0.4087, 0.0626, 0.0430, 0.6937, 0.0672, 0.8016,\n",
              "        0.1312, 0.4703, 0.3276, 0.0575, 0.1059, 0.5090, 0.4026, 0.2586, 0.0314,\n",
              "        0.1549, 0.1052, 0.0473, 0.8561, 0.6690, 0.8983])"
            ]
          },
          "metadata": {},
          "execution_count": 29
        }
      ],
      "source": [
        "weights.grad"
      ]
    },
    {
      "cell_type": "markdown",
      "metadata": {
        "id": "1jcbGhwZt9zZ"
      },
      "source": [
        "### Gradient Step"
      ]
    },
    {
      "cell_type": "code",
      "execution_count": null,
      "metadata": {
        "colab": {
          "base_uri": "https://localhost:8080/"
        },
        "id": "peZk5wJdjCO_",
        "outputId": "c8daa542-aa23-4e46-e547-96719ba44391"
      },
      "outputs": [
        {
          "output_type": "stream",
          "name": "stdout",
          "text": [
            "tensor(3.9736)\n"
          ]
        }
      ],
      "source": [
        "learning_rate = 0.1\n",
        "\n",
        "with torch.no_grad():\n",
        "  weights.sub_(weights.grad * learning_rate)\n",
        "  preds = calculate_preds(weights, features)\n",
        "  loss = calculate_loss(preds, labels)\n",
        "  print(loss)"
      ]
    },
    {
      "cell_type": "markdown",
      "metadata": {
        "id": "mepaIyg4k3pY"
      },
      "source": [
        "# Setting Up everything together"
      ]
    },
    {
      "cell_type": "code",
      "execution_count": null,
      "metadata": {
        "id": "014rCNnCliXH"
      },
      "outputs": [],
      "source": [
        "train_feature_df = train_df[train_df.columns[:-1]].astype(float)\n",
        "train_features = tensor(train_feature_df.values, dtype=torch.float)\n",
        "train_labels = tensor(train_df.high_income, dtype=torch.int)"
      ]
    },
    {
      "cell_type": "code",
      "execution_count": null,
      "metadata": {
        "id": "-J1PcFQym8FZ"
      },
      "outputs": [],
      "source": [
        "max_value, _ = train_features.max(dim=0)\n",
        "train_features /= max_value"
      ]
    },
    {
      "cell_type": "code",
      "execution_count": null,
      "metadata": {
        "id": "9Cfti5IRpDOp"
      },
      "outputs": [],
      "source": [
        "test_feature_df = test_df[test_df.columns[:-1]].astype(float)\n",
        "test_features = tensor(test_feature_df.values, dtype=torch.float)\n",
        "test_labels = tensor(test_df.high_income, dtype=torch.int)"
      ]
    },
    {
      "cell_type": "code",
      "execution_count": null,
      "metadata": {
        "id": "eaIf3s5wnB0R"
      },
      "outputs": [],
      "source": [
        "max_value, _ = test_features.max(dim=0)\n",
        "test_features /= max_value"
      ]
    },
    {
      "cell_type": "code",
      "execution_count": null,
      "metadata": {
        "id": "kq4M388lmtfk"
      },
      "outputs": [],
      "source": [
        "def init_weights():\n",
        "  torch.manual_seed(42)\n",
        "  n_params = train_features.shape[1]\n",
        "  weights = torch.rand(n_params)\n",
        "  return weights.requires_grad_()"
      ]
    },
    {
      "cell_type": "code",
      "execution_count": null,
      "metadata": {
        "id": "fXQHUpk5mA0A"
      },
      "outputs": [],
      "source": [
        "def calculate_preds(weights, features):\n",
        "  mults = (features * weights)\n",
        "  preds = mults.sum(axis=1)\n",
        "  return preds"
      ]
    },
    {
      "cell_type": "code",
      "execution_count": null,
      "metadata": {
        "id": "J0Be6Q1DmT4o"
      },
      "outputs": [],
      "source": [
        "def calculate_loss(preds, labels):\n",
        "  return torch.abs(preds-labels).mean()"
      ]
    },
    {
      "cell_type": "code",
      "execution_count": null,
      "metadata": {
        "id": "r16RYTb0mVAx"
      },
      "outputs": [],
      "source": [
        "def update_weights(weights, lr):\n",
        "  weights.sub_(weights.grad * lr)\n",
        "  return"
      ]
    },
    {
      "cell_type": "code",
      "execution_count": null,
      "metadata": {
        "id": "rOTPeIncmWdI"
      },
      "outputs": [],
      "source": [
        "def one_epoch(epoch_no, weights, lr):\n",
        "  preds = calculate_preds(weights, features)\n",
        "  loss = calculate_loss(preds, train_labels)\n",
        "  loss.backward()\n",
        "  with torch.no_grad(): update_weights(weights, lr)\n",
        "  print(f\"Epoch {epoch_no+1} => Loss: {loss}\")"
      ]
    },
    {
      "cell_type": "code",
      "execution_count": null,
      "metadata": {
        "id": "zzFlFhR8nkFK"
      },
      "outputs": [],
      "source": [
        "def train_model(epochs, lr):\n",
        "  weights = init_weights()\n",
        "  for epoch_no in range(epochs):\n",
        "    one_epoch(epoch_no, weights, lr)\n",
        "  return weights"
      ]
    },
    {
      "cell_type": "code",
      "execution_count": null,
      "metadata": {
        "colab": {
          "base_uri": "https://localhost:8080/"
        },
        "id": "Qs9RD6j2oeEx",
        "outputId": "4b2fedca-9e60-4208-ef84-791d575926cc"
      },
      "outputs": [
        {
          "output_type": "stream",
          "name": "stdout",
          "text": [
            "Epoch 1 => Loss: 4.928189754486084\n",
            "Epoch 2 => Loss: 4.880458354949951\n",
            "Epoch 3 => Loss: 4.7849955558776855\n",
            "Epoch 4 => Loss: 4.641801834106445\n",
            "Epoch 5 => Loss: 4.450876712799072\n",
            "Epoch 6 => Loss: 4.212220668792725\n",
            "Epoch 7 => Loss: 3.9258322715759277\n",
            "Epoch 8 => Loss: 3.5917136669158936\n",
            "Epoch 9 => Loss: 3.2098629474639893\n",
            "Epoch 10 => Loss: 2.7802815437316895\n",
            "Epoch 11 => Loss: 2.3029685020446777\n",
            "Epoch 12 => Loss: 1.7779242992401123\n",
            "Epoch 13 => Loss: 1.2055810689926147\n",
            "Epoch 14 => Loss: 0.6818041205406189\n",
            "Epoch 15 => Loss: 0.5160887837409973\n"
          ]
        }
      ],
      "source": [
        "weights = train_model(epochs=15, lr=0.01)"
      ]
    },
    {
      "cell_type": "code",
      "execution_count": null,
      "metadata": {
        "colab": {
          "base_uri": "https://localhost:8080/"
        },
        "id": "wZxG8NeBuY1O",
        "outputId": "da2b2446-4ea7-4f8f-ef22-5ad78c8e8183"
      },
      "outputs": [
        {
          "output_type": "execute_result",
          "data": {
            "text/plain": [
              "tensor([ 0.3738,  0.7640, -0.3614,  0.4764,  0.3168,  0.5498, -0.5607,  0.7137,\n",
              "        -0.0060, -0.0221,  0.3816,  0.2074,  0.8004,  0.4415,  0.1404, -0.0430,\n",
              "         0.5772,  0.5365,  0.0847,  0.5016,  0.2134, -0.5687, -0.4899, -0.2296],\n",
              "       requires_grad=True)"
            ]
          },
          "metadata": {},
          "execution_count": 43
        }
      ],
      "source": [
        "weights"
      ]
    },
    {
      "cell_type": "markdown",
      "metadata": {
        "id": "oHANm-u9uDwp"
      },
      "source": [
        "### Saving model weights for future inference"
      ]
    },
    {
      "cell_type": "code",
      "execution_count": null,
      "metadata": {
        "id": "LbDu7vt_rwHR"
      },
      "outputs": [],
      "source": [
        "torch.save(weights, \"linear_model_weights.pt\")"
      ]
    },
    {
      "cell_type": "markdown",
      "metadata": {
        "id": "u9leUsvKp7T5"
      },
      "source": [
        "### Test Accuracy"
      ]
    },
    {
      "cell_type": "code",
      "execution_count": null,
      "metadata": {
        "colab": {
          "base_uri": "https://localhost:8080/"
        },
        "id": "BOsV4lFEp-z_",
        "outputId": "f01ff905-d4fb-4946-bc85-897e55fc5b21"
      },
      "outputs": [
        {
          "output_type": "execute_result",
          "data": {
            "text/plain": [
              "tensor([ 0.5129, -0.4021, -0.5087, -0.8819, -0.4508], grad_fn=<SliceBackward0>)"
            ]
          },
          "metadata": {},
          "execution_count": 45
        }
      ],
      "source": [
        "test_preds = calculate_preds(weights, test_features)\n",
        "test_preds[:5]"
      ]
    },
    {
      "cell_type": "code",
      "execution_count": null,
      "metadata": {
        "colab": {
          "base_uri": "https://localhost:8080/"
        },
        "id": "hpNBjmdsqUHA",
        "outputId": "ec61522c-2876-479e-8ac3-bf124c71283e"
      },
      "outputs": [
        {
          "output_type": "execute_result",
          "data": {
            "text/plain": [
              "tensor([False,  True,  True,  True, False])"
            ]
          },
          "metadata": {},
          "execution_count": 46
        }
      ],
      "source": [
        "results = test_labels == (test_preds > 0.5).int()\n",
        "results[:5]"
      ]
    },
    {
      "cell_type": "code",
      "execution_count": null,
      "metadata": {
        "colab": {
          "base_uri": "https://localhost:8080/"
        },
        "id": "tH6HPKedqfaA",
        "outputId": "37fa5912-438c-4082-9c9f-c521dc4e0b36"
      },
      "outputs": [
        {
          "output_type": "execute_result",
          "data": {
            "text/plain": [
              "tensor(0.7264)"
            ]
          },
          "metadata": {},
          "execution_count": 47
        }
      ],
      "source": [
        "results.float().mean()"
      ]
    },
    {
      "cell_type": "code",
      "execution_count": null,
      "metadata": {
        "id": "JgBHrnK7q4RQ"
      },
      "outputs": [],
      "source": [
        "def accuracy(weights, features):\n",
        "  preds = calculate_preds(weights, features)\n",
        "  results = test_labels == (preds > 0.5).int()\n",
        "  return results.float().mean()"
      ]
    },
    {
      "cell_type": "code",
      "execution_count": null,
      "metadata": {
        "id": "3xaZdplWsDCo"
      },
      "outputs": [],
      "source": [
        "trained_weights = torch.load(\"linear_model_weights.pt\")"
      ]
    },
    {
      "cell_type": "code",
      "execution_count": null,
      "metadata": {
        "colab": {
          "base_uri": "https://localhost:8080/"
        },
        "id": "uTVgpugAsNgA",
        "outputId": "9c19cb52-2048-4678-c761-41703cc28b96"
      },
      "outputs": [
        {
          "output_type": "execute_result",
          "data": {
            "text/plain": [
              "tensor(0.7264)"
            ]
          },
          "metadata": {},
          "execution_count": 50
        }
      ],
      "source": [
        "accuracy(trained_weights, test_features)"
      ]
    },
    {
      "cell_type": "markdown",
      "metadata": {
        "id": "qRPmV3PEuWph"
      },
      "source": [
        "*Our linear model's accuracy* **72.64%**"
      ]
    }
  ],
  "metadata": {
    "colab": {
      "provenance": [],
      "include_colab_link": true
    },
    "kernelspec": {
      "display_name": "Python 3",
      "name": "python3"
    },
    "language_info": {
      "name": "python"
    }
  },
  "nbformat": 4,
  "nbformat_minor": 0
}