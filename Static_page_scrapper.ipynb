{
  "nbformat": 4,
  "nbformat_minor": 0,
  "metadata": {
    "colab": {
      "provenance": [],
      "authorship_tag": "ABX9TyNGOhxY31q1bgI1EM0xiatT",
      "include_colab_link": true
    },
    "kernelspec": {
      "name": "python3",
      "display_name": "Python 3"
    },
    "language_info": {
      "name": "python"
    }
  },
  "cells": [
    {
      "cell_type": "markdown",
      "metadata": {
        "id": "view-in-github",
        "colab_type": "text"
      },
      "source": [
        "<a href=\"https://colab.research.google.com/github/AbrarAdnan/Data-Science-practice/blob/main/Static_page_scrapper.ipynb\" target=\"_parent\"><img src=\"https://colab.research.google.com/assets/colab-badge.svg\" alt=\"Open In Colab\"/></a>"
      ]
    },
    {
      "cell_type": "markdown",
      "source": [
        "**A demo code to scrap tables from a wikipedia page**"
      ],
      "metadata": {
        "id": "z4QmzgindMXQ"
      }
    },
    {
      "cell_type": "code",
      "execution_count": null,
      "metadata": {
        "id": "Tn9RGi1HuMur"
      },
      "outputs": [],
      "source": [
        "import requests\n",
        "import bs4\n",
        "import pandas as pd"
      ]
    },
    {
      "cell_type": "code",
      "source": [
        "url = \"https://en.wikipedia.org/wiki/Bangladesh_national_cricket_team\"\n",
        "web_page = bs4.BeautifulSoup(requests.get(url, {}).text, \"lxml\")\n",
        "tables = web_page.find_all(name=\"table\", attrs= {\"class\": \"wikitable\"})\n",
        "table_rows = tables[4].find_all(name=\"tr\")\n",
        "#len(table_rows)"
      ],
      "metadata": {
        "id": "hi2tMTTyvs5m"
      },
      "execution_count": null,
      "outputs": []
    },
    {
      "cell_type": "code",
      "source": [
        "table_rows"
      ],
      "metadata": {
        "colab": {
          "base_uri": "https://localhost:8080/"
        },
        "id": "72ZiHiJuvt8a",
        "outputId": "80edf1fa-5550-4d33-f0f9-836a53ba7cb4"
      },
      "execution_count": null,
      "outputs": [
        {
          "output_type": "execute_result",
          "data": {
            "text/plain": [
              "[<tr>\n",
              " <th style=\"background:#006A4E; color: white; text-align:center;\">Position\n",
              " </th>\n",
              " <th style=\"background:#006A4E; color: white; text-align:center;\">Name\n",
              " </th></tr>, <tr>\n",
              " <td>Team director</td>\n",
              " <td><span class=\"flagicon\"><a href=\"/wiki/Bangladesh\" title=\"Bangladesh\"><img alt=\"Bangladesh\" class=\"thumbborder\" data-file-height=\"600\" data-file-width=\"1000\" decoding=\"async\" height=\"14\" src=\"//upload.wikimedia.org/wikipedia/commons/thumb/f/f9/Flag_of_Bangladesh.svg/23px-Flag_of_Bangladesh.svg.png\" srcset=\"//upload.wikimedia.org/wikipedia/commons/thumb/f/f9/Flag_of_Bangladesh.svg/35px-Flag_of_Bangladesh.svg.png 1.5x, //upload.wikimedia.org/wikipedia/commons/thumb/f/f9/Flag_of_Bangladesh.svg/46px-Flag_of_Bangladesh.svg.png 2x\" width=\"23\"/></a></span> <a href=\"/wiki/Khaled_Mahmud\" title=\"Khaled Mahmud\">Khaled Mahmud</a><sup class=\"reference\" id=\"cite_ref-422\"><a href=\"#cite_note-422\">[422]</a></sup>\n",
              " </td></tr>, <tr>\n",
              " <td>Team manager</td>\n",
              " <td><span class=\"flagicon\"><a href=\"/wiki/Bangladesh\" title=\"Bangladesh\"><img alt=\"Bangladesh\" class=\"thumbborder\" data-file-height=\"600\" data-file-width=\"1000\" decoding=\"async\" height=\"14\" src=\"//upload.wikimedia.org/wikipedia/commons/thumb/f/f9/Flag_of_Bangladesh.svg/23px-Flag_of_Bangladesh.svg.png\" srcset=\"//upload.wikimedia.org/wikipedia/commons/thumb/f/f9/Flag_of_Bangladesh.svg/35px-Flag_of_Bangladesh.svg.png 1.5x, //upload.wikimedia.org/wikipedia/commons/thumb/f/f9/Flag_of_Bangladesh.svg/46px-Flag_of_Bangladesh.svg.png 2x\" width=\"23\"/></a></span> <a href=\"/wiki/Sabbir_Khan_(Bangladeshi_cricketer)\" title=\"Sabbir Khan (Bangladeshi cricketer)\">Sabbir Khan</a>\n",
              " </td></tr>, <tr>\n",
              " <td>Head coach</td>\n",
              " <td><span class=\"flagicon\"><a href=\"/wiki/South_Africa\" title=\"South Africa\"><img alt=\"South Africa\" class=\"thumbborder\" data-file-height=\"267\" data-file-width=\"400\" decoding=\"async\" height=\"15\" src=\"//upload.wikimedia.org/wikipedia/commons/thumb/a/af/Flag_of_South_Africa.svg/23px-Flag_of_South_Africa.svg.png\" srcset=\"//upload.wikimedia.org/wikipedia/commons/thumb/a/af/Flag_of_South_Africa.svg/35px-Flag_of_South_Africa.svg.png 1.5x, //upload.wikimedia.org/wikipedia/commons/thumb/a/af/Flag_of_South_Africa.svg/45px-Flag_of_South_Africa.svg.png 2x\" width=\"23\"/></a></span> <a href=\"/wiki/Russell_Domingo\" title=\"Russell Domingo\">Russell Domingo</a>\n",
              " </td></tr>, <tr>\n",
              " <td>Batting coach</td>\n",
              " <td><span class=\"flagicon\"><a href=\"/wiki/Australia\" title=\"Australia\"><img alt=\"Australia\" class=\"thumbborder\" data-file-height=\"640\" data-file-width=\"1280\" decoding=\"async\" height=\"12\" src=\"//upload.wikimedia.org/wikipedia/commons/thumb/8/88/Flag_of_Australia_%28converted%29.svg/23px-Flag_of_Australia_%28converted%29.svg.png\" srcset=\"//upload.wikimedia.org/wikipedia/commons/thumb/8/88/Flag_of_Australia_%28converted%29.svg/35px-Flag_of_Australia_%28converted%29.svg.png 1.5x, //upload.wikimedia.org/wikipedia/commons/thumb/8/88/Flag_of_Australia_%28converted%29.svg/46px-Flag_of_Australia_%28converted%29.svg.png 2x\" width=\"23\"/></a></span> <a href=\"/wiki/Jamie_Siddons\" title=\"Jamie Siddons\">Jamie Siddons</a>\n",
              " </td></tr>, <tr>\n",
              " <td>Spin bowling coach</td>\n",
              " <td><span class=\"flagicon\"><a href=\"/wiki/Sri_Lanka\" title=\"Sri Lanka\"><img alt=\"Sri Lanka\" class=\"thumbborder\" data-file-height=\"600\" data-file-width=\"1200\" decoding=\"async\" height=\"12\" src=\"//upload.wikimedia.org/wikipedia/commons/thumb/1/11/Flag_of_Sri_Lanka.svg/23px-Flag_of_Sri_Lanka.svg.png\" srcset=\"//upload.wikimedia.org/wikipedia/commons/thumb/1/11/Flag_of_Sri_Lanka.svg/35px-Flag_of_Sri_Lanka.svg.png 1.5x, //upload.wikimedia.org/wikipedia/commons/thumb/1/11/Flag_of_Sri_Lanka.svg/46px-Flag_of_Sri_Lanka.svg.png 2x\" width=\"23\"/></a></span> <a href=\"/wiki/Rangana_Herath\" title=\"Rangana Herath\">Rangana Herath</a>\n",
              " </td></tr>, <tr>\n",
              " <td>Fast bowling coach</td>\n",
              " <td><span class=\"flagicon\"><a href=\"/wiki/South_Africa\" title=\"South Africa\"><img alt=\"South Africa\" class=\"thumbborder\" data-file-height=\"267\" data-file-width=\"400\" decoding=\"async\" height=\"15\" src=\"//upload.wikimedia.org/wikipedia/commons/thumb/a/af/Flag_of_South_Africa.svg/23px-Flag_of_South_Africa.svg.png\" srcset=\"//upload.wikimedia.org/wikipedia/commons/thumb/a/af/Flag_of_South_Africa.svg/35px-Flag_of_South_Africa.svg.png 1.5x, //upload.wikimedia.org/wikipedia/commons/thumb/a/af/Flag_of_South_Africa.svg/45px-Flag_of_South_Africa.svg.png 2x\" width=\"23\"/></a></span> <a href=\"/wiki/Allan_Donald\" title=\"Allan Donald\">Allan Donald</a><sup class=\"reference\" id=\"cite_ref-423\"><a href=\"#cite_note-423\">[423]</a></sup>\n",
              " </td></tr>, <tr>\n",
              " <td>Fielding coach</td>\n",
              " <td><span class=\"flagicon\"><a href=\"/wiki/Australia\" title=\"Australia\"><img alt=\"Australia\" class=\"thumbborder\" data-file-height=\"640\" data-file-width=\"1280\" decoding=\"async\" height=\"12\" src=\"//upload.wikimedia.org/wikipedia/commons/thumb/8/88/Flag_of_Australia_%28converted%29.svg/23px-Flag_of_Australia_%28converted%29.svg.png\" srcset=\"//upload.wikimedia.org/wikipedia/commons/thumb/8/88/Flag_of_Australia_%28converted%29.svg/35px-Flag_of_Australia_%28converted%29.svg.png 1.5x, //upload.wikimedia.org/wikipedia/commons/thumb/8/88/Flag_of_Australia_%28converted%29.svg/46px-Flag_of_Australia_%28converted%29.svg.png 2x\" width=\"23\"/></a></span> Shane McDermott\n",
              " </td></tr>, <tr>\n",
              " <td>Strength and conditioning coach</td>\n",
              " <td><span class=\"flagicon\"><a href=\"/wiki/England\" title=\"England\"><img alt=\"England\" class=\"thumbborder\" data-file-height=\"480\" data-file-width=\"800\" decoding=\"async\" height=\"14\" src=\"//upload.wikimedia.org/wikipedia/en/thumb/b/be/Flag_of_England.svg/23px-Flag_of_England.svg.png\" srcset=\"//upload.wikimedia.org/wikipedia/en/thumb/b/be/Flag_of_England.svg/35px-Flag_of_England.svg.png 1.5x, //upload.wikimedia.org/wikipedia/en/thumb/b/be/Flag_of_England.svg/46px-Flag_of_England.svg.png 2x\" width=\"23\"/></a></span> <a href=\"/wiki/Nick_Lee_(cricketer)\" title=\"Nick Lee (cricketer)\">Nick Lee</a>\n",
              " </td></tr>, <tr>\n",
              " <td>Physiotherapist</td>\n",
              " <td><span class=\"flagicon\"><a href=\"/wiki/Bangladesh\" title=\"Bangladesh\"><img alt=\"Bangladesh\" class=\"thumbborder\" data-file-height=\"600\" data-file-width=\"1000\" decoding=\"async\" height=\"14\" src=\"//upload.wikimedia.org/wikipedia/commons/thumb/f/f9/Flag_of_Bangladesh.svg/23px-Flag_of_Bangladesh.svg.png\" srcset=\"//upload.wikimedia.org/wikipedia/commons/thumb/f/f9/Flag_of_Bangladesh.svg/35px-Flag_of_Bangladesh.svg.png 1.5x, //upload.wikimedia.org/wikipedia/commons/thumb/f/f9/Flag_of_Bangladesh.svg/46px-Flag_of_Bangladesh.svg.png 2x\" width=\"23\"/></a></span> Mujadded Sunny\n",
              " </td></tr>, <tr>\n",
              " <td>Performance analyst</td>\n",
              " <td><span class=\"flagicon\"><a href=\"/wiki/India\" title=\"India\"><img alt=\"India\" class=\"thumbborder\" data-file-height=\"900\" data-file-width=\"1350\" decoding=\"async\" height=\"15\" src=\"//upload.wikimedia.org/wikipedia/en/thumb/4/41/Flag_of_India.svg/23px-Flag_of_India.svg.png\" srcset=\"//upload.wikimedia.org/wikipedia/en/thumb/4/41/Flag_of_India.svg/35px-Flag_of_India.svg.png 1.5x, //upload.wikimedia.org/wikipedia/en/thumb/4/41/Flag_of_India.svg/45px-Flag_of_India.svg.png 2x\" width=\"23\"/></a></span> Shrinivas Chandrasekaran\n",
              " </td></tr>]"
            ]
          },
          "metadata": {},
          "execution_count": 3
        }
      ]
    },
    {
      "cell_type": "code",
      "source": [
        "# Get the column names\n",
        "col_names = [ raw_name.text.replace(\"\\n\", \"\") for raw_name in table_rows[0].find_all(name=\"th\")]\n",
        "col_names"
      ],
      "metadata": {
        "colab": {
          "base_uri": "https://localhost:8080/"
        },
        "id": "8i8G8X7v1f1J",
        "outputId": "def17d3e-c15c-4fe2-e9dc-6f19cd54c079"
      },
      "execution_count": null,
      "outputs": [
        {
          "output_type": "execute_result",
          "data": {
            "text/plain": [
              "['Position', 'Name']"
            ]
          },
          "metadata": {},
          "execution_count": 4
        }
      ]
    },
    {
      "cell_type": "code",
      "source": [
        "#Get the raw contents of the table\n",
        "contents = [ {raw_name.text.replace(\"\\n\", \"\").strip() for raw_name in table_rows[row_id].find_all(name=\"td\")} for row_id in range(1, len(table_rows)) ]\n",
        "contents"
      ],
      "metadata": {
        "colab": {
          "base_uri": "https://localhost:8080/"
        },
        "id": "aaJvI8vnyG2w",
        "outputId": "3ee14744-5a14-49f8-834d-0af59ca40fa5"
      },
      "execution_count": null,
      "outputs": [
        {
          "output_type": "execute_result",
          "data": {
            "text/plain": [
              "[{'Khaled Mahmud[422]', 'Team director'},\n",
              " {'Sabbir Khan', 'Team manager'},\n",
              " {'Head coach', 'Russell Domingo'},\n",
              " {'Batting coach', 'Jamie Siddons'},\n",
              " {'Rangana Herath', 'Spin bowling coach'},\n",
              " {'Allan Donald[423]', 'Fast bowling coach'},\n",
              " {'Fielding coach', 'Shane McDermott'},\n",
              " {'Nick Lee', 'Strength and conditioning coach'},\n",
              " {'Mujadded Sunny', 'Physiotherapist'},\n",
              " {'Performance analyst', 'Shrinivas Chandrasekaran'}]"
            ]
          },
          "metadata": {},
          "execution_count": 5
        }
      ]
    },
    {
      "cell_type": "code",
      "source": [
        "import re\n",
        "def nospecial(text):\n",
        "\ttext = re.sub(\"[^a-zA-Z 0-9]+\", \"\",text)\n",
        "\treturn text"
      ],
      "metadata": {
        "id": "qXhQnA_AAa17"
      },
      "execution_count": null,
      "outputs": []
    },
    {
      "cell_type": "code",
      "source": [
        "# get the contents and stip any unnecessary characters from the contents\n",
        "contents = [{col_names[idx] : nospecial(raw_name.text.replace(\"\\n\", \"\").strip()) for idx, raw_name in enumerate(table_rows[row_id].find_all(name=\"td\"))} for row_id in range(1, len(table_rows))]\n",
        "contents"
      ],
      "metadata": {
        "colab": {
          "base_uri": "https://localhost:8080/"
        },
        "id": "RxlmM-z0x0PU",
        "outputId": "ee6794e8-a0f8-409b-c6ac-2b99a02362a6"
      },
      "execution_count": null,
      "outputs": [
        {
          "output_type": "execute_result",
          "data": {
            "text/plain": [
              "[{'Position': 'Team director', 'Name': 'Khaled Mahmud422'},\n",
              " {'Position': 'Team manager', 'Name': 'Sabbir Khan'},\n",
              " {'Position': 'Head coach', 'Name': 'Russell Domingo'},\n",
              " {'Position': 'Batting coach', 'Name': 'Jamie Siddons'},\n",
              " {'Position': 'Spin bowling coach', 'Name': 'Rangana Herath'},\n",
              " {'Position': 'Fast bowling coach', 'Name': 'Allan Donald423'},\n",
              " {'Position': 'Fielding coach', 'Name': 'Shane McDermott'},\n",
              " {'Position': 'Strength and conditioning coach', 'Name': 'Nick Lee'},\n",
              " {'Position': 'Physiotherapist', 'Name': 'Mujadded Sunny'},\n",
              " {'Position': 'Performance analyst', 'Name': 'Shrinivas Chandrasekaran'}]"
            ]
          },
          "metadata": {},
          "execution_count": 7
        }
      ]
    },
    {
      "cell_type": "code",
      "source": [
        "# Put the final data in a dataframe\n",
        "df = pd.DataFrame(data=contents, columns=col_names)\n",
        "df.head()"
      ],
      "metadata": {
        "colab": {
          "base_uri": "https://localhost:8080/",
          "height": 206
        },
        "id": "cIu3rRnfzWT4",
        "outputId": "946d3f27-d329-4320-ab0b-32d97703f048"
      },
      "execution_count": null,
      "outputs": [
        {
          "output_type": "execute_result",
          "data": {
            "text/plain": [
              "             Position              Name\n",
              "0       Team director  Khaled Mahmud422\n",
              "1        Team manager       Sabbir Khan\n",
              "2          Head coach   Russell Domingo\n",
              "3       Batting coach     Jamie Siddons\n",
              "4  Spin bowling coach    Rangana Herath"
            ],
            "text/html": [
              "\n",
              "  <div id=\"df-8fc310d1-f297-4456-8bf6-541b905e70c1\">\n",
              "    <div class=\"colab-df-container\">\n",
              "      <div>\n",
              "<style scoped>\n",
              "    .dataframe tbody tr th:only-of-type {\n",
              "        vertical-align: middle;\n",
              "    }\n",
              "\n",
              "    .dataframe tbody tr th {\n",
              "        vertical-align: top;\n",
              "    }\n",
              "\n",
              "    .dataframe thead th {\n",
              "        text-align: right;\n",
              "    }\n",
              "</style>\n",
              "<table border=\"1\" class=\"dataframe\">\n",
              "  <thead>\n",
              "    <tr style=\"text-align: right;\">\n",
              "      <th></th>\n",
              "      <th>Position</th>\n",
              "      <th>Name</th>\n",
              "    </tr>\n",
              "  </thead>\n",
              "  <tbody>\n",
              "    <tr>\n",
              "      <th>0</th>\n",
              "      <td>Team director</td>\n",
              "      <td>Khaled Mahmud422</td>\n",
              "    </tr>\n",
              "    <tr>\n",
              "      <th>1</th>\n",
              "      <td>Team manager</td>\n",
              "      <td>Sabbir Khan</td>\n",
              "    </tr>\n",
              "    <tr>\n",
              "      <th>2</th>\n",
              "      <td>Head coach</td>\n",
              "      <td>Russell Domingo</td>\n",
              "    </tr>\n",
              "    <tr>\n",
              "      <th>3</th>\n",
              "      <td>Batting coach</td>\n",
              "      <td>Jamie Siddons</td>\n",
              "    </tr>\n",
              "    <tr>\n",
              "      <th>4</th>\n",
              "      <td>Spin bowling coach</td>\n",
              "      <td>Rangana Herath</td>\n",
              "    </tr>\n",
              "  </tbody>\n",
              "</table>\n",
              "</div>\n",
              "      <button class=\"colab-df-convert\" onclick=\"convertToInteractive('df-8fc310d1-f297-4456-8bf6-541b905e70c1')\"\n",
              "              title=\"Convert this dataframe to an interactive table.\"\n",
              "              style=\"display:none;\">\n",
              "        \n",
              "  <svg xmlns=\"http://www.w3.org/2000/svg\" height=\"24px\"viewBox=\"0 0 24 24\"\n",
              "       width=\"24px\">\n",
              "    <path d=\"M0 0h24v24H0V0z\" fill=\"none\"/>\n",
              "    <path d=\"M18.56 5.44l.94 2.06.94-2.06 2.06-.94-2.06-.94-.94-2.06-.94 2.06-2.06.94zm-11 1L8.5 8.5l.94-2.06 2.06-.94-2.06-.94L8.5 2.5l-.94 2.06-2.06.94zm10 10l.94 2.06.94-2.06 2.06-.94-2.06-.94-.94-2.06-.94 2.06-2.06.94z\"/><path d=\"M17.41 7.96l-1.37-1.37c-.4-.4-.92-.59-1.43-.59-.52 0-1.04.2-1.43.59L10.3 9.45l-7.72 7.72c-.78.78-.78 2.05 0 2.83L4 21.41c.39.39.9.59 1.41.59.51 0 1.02-.2 1.41-.59l7.78-7.78 2.81-2.81c.8-.78.8-2.07 0-2.86zM5.41 20L4 18.59l7.72-7.72 1.47 1.35L5.41 20z\"/>\n",
              "  </svg>\n",
              "      </button>\n",
              "      \n",
              "  <style>\n",
              "    .colab-df-container {\n",
              "      display:flex;\n",
              "      flex-wrap:wrap;\n",
              "      gap: 12px;\n",
              "    }\n",
              "\n",
              "    .colab-df-convert {\n",
              "      background-color: #E8F0FE;\n",
              "      border: none;\n",
              "      border-radius: 50%;\n",
              "      cursor: pointer;\n",
              "      display: none;\n",
              "      fill: #1967D2;\n",
              "      height: 32px;\n",
              "      padding: 0 0 0 0;\n",
              "      width: 32px;\n",
              "    }\n",
              "\n",
              "    .colab-df-convert:hover {\n",
              "      background-color: #E2EBFA;\n",
              "      box-shadow: 0px 1px 2px rgba(60, 64, 67, 0.3), 0px 1px 3px 1px rgba(60, 64, 67, 0.15);\n",
              "      fill: #174EA6;\n",
              "    }\n",
              "\n",
              "    [theme=dark] .colab-df-convert {\n",
              "      background-color: #3B4455;\n",
              "      fill: #D2E3FC;\n",
              "    }\n",
              "\n",
              "    [theme=dark] .colab-df-convert:hover {\n",
              "      background-color: #434B5C;\n",
              "      box-shadow: 0px 1px 3px 1px rgba(0, 0, 0, 0.15);\n",
              "      filter: drop-shadow(0px 1px 2px rgba(0, 0, 0, 0.3));\n",
              "      fill: #FFFFFF;\n",
              "    }\n",
              "  </style>\n",
              "\n",
              "      <script>\n",
              "        const buttonEl =\n",
              "          document.querySelector('#df-8fc310d1-f297-4456-8bf6-541b905e70c1 button.colab-df-convert');\n",
              "        buttonEl.style.display =\n",
              "          google.colab.kernel.accessAllowed ? 'block' : 'none';\n",
              "\n",
              "        async function convertToInteractive(key) {\n",
              "          const element = document.querySelector('#df-8fc310d1-f297-4456-8bf6-541b905e70c1');\n",
              "          const dataTable =\n",
              "            await google.colab.kernel.invokeFunction('convertToInteractive',\n",
              "                                                     [key], {});\n",
              "          if (!dataTable) return;\n",
              "\n",
              "          const docLinkHtml = 'Like what you see? Visit the ' +\n",
              "            '<a target=\"_blank\" href=https://colab.research.google.com/notebooks/data_table.ipynb>data table notebook</a>'\n",
              "            + ' to learn more about interactive tables.';\n",
              "          element.innerHTML = '';\n",
              "          dataTable['output_type'] = 'display_data';\n",
              "          await google.colab.output.renderOutput(dataTable, element);\n",
              "          const docLink = document.createElement('div');\n",
              "          docLink.innerHTML = docLinkHtml;\n",
              "          element.appendChild(docLink);\n",
              "        }\n",
              "      </script>\n",
              "    </div>\n",
              "  </div>\n",
              "  "
            ]
          },
          "metadata": {},
          "execution_count": 8
        }
      ]
    },
    {
      "cell_type": "code",
      "source": [],
      "metadata": {
        "id": "XDPqhjFI7VMH"
      },
      "execution_count": null,
      "outputs": []
    }
  ]
}